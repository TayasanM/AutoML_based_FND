{
 "cells": [
  {
   "cell_type": "code",
   "execution_count": 5,
   "id": "42e2cc48-352b-4d59-b26b-ed830d11ee34",
   "metadata": {},
   "outputs": [
    {
     "name": "stdout",
     "output_type": "stream",
     "text": [
      "Trial 5 Complete [00h 00m 01s]\n",
      "val_accuracy: 0.75\n",
      "\n",
      "Best val_accuracy So Far: 0.8125\n",
      "Total elapsed time: 00h 00m 04s\n",
      "Epoch 1/10\n"
     ]
    },
    {
     "name": "stderr",
     "output_type": "stream",
     "text": [
      "2024-09-05 15:17:11.166060: I tensorflow/core/common_runtime/executor.cc:1197] [/device:CPU:0] (DEBUG INFO) Executor start aborting (this does not indicate an error and you can ignore this message): INVALID_ARGUMENT: You must feed a value for placeholder tensor 'Placeholder/_13' with dtype double and shape [128,19]\n",
      "\t [[{{node Placeholder/_13}}]]\n",
      "2024-09-05 15:17:11.166286: I tensorflow/core/common_runtime/executor.cc:1197] [/device:CPU:0] (DEBUG INFO) Executor start aborting (this does not indicate an error and you can ignore this message): INVALID_ARGUMENT: You must feed a value for placeholder tensor 'Placeholder/_0' with dtype double and shape [128,19]\n",
      "\t [[{{node Placeholder/_0}}]]\n",
      "2024-09-05 15:17:11.216920: I tensorflow/core/common_runtime/executor.cc:1197] [/device:CPU:0] (DEBUG INFO) Executor start aborting (this does not indicate an error and you can ignore this message): INVALID_ARGUMENT: You must feed a value for placeholder tensor 'Placeholder/_18' with dtype int64 and shape [128]\n",
      "\t [[{{node Placeholder/_18}}]]\n",
      "2024-09-05 15:17:11.217172: I tensorflow/core/common_runtime/executor.cc:1197] [/device:CPU:0] (DEBUG INFO) Executor start aborting (this does not indicate an error and you can ignore this message): INVALID_ARGUMENT: You must feed a value for placeholder tensor 'Placeholder/_18' with dtype int64 and shape [128]\n",
      "\t [[{{node Placeholder/_18}}]]\n",
      "2024-09-05 15:17:11.273293: I tensorflow/core/common_runtime/executor.cc:1197] [/device:CPU:0] (DEBUG INFO) Executor start aborting (this does not indicate an error and you can ignore this message): INVALID_ARGUMENT: You must feed a value for placeholder tensor 'Placeholder/_18' with dtype int64 and shape [128]\n",
      "\t [[{{node Placeholder/_18}}]]\n",
      "2024-09-05 15:17:11.273492: I tensorflow/core/common_runtime/executor.cc:1197] [/device:CPU:0] (DEBUG INFO) Executor start aborting (this does not indicate an error and you can ignore this message): INVALID_ARGUMENT: You must feed a value for placeholder tensor 'Placeholder/_34' with dtype int64 and shape [128]\n",
      "\t [[{{node Placeholder/_34}}]]\n"
     ]
    },
    {
     "name": "stdout",
     "output_type": "stream",
     "text": [
      "4/4 [==============================] - 0s 2ms/step - loss: 0.7250 - accuracy: 0.4375\n",
      "Epoch 2/10\n",
      "4/4 [==============================] - 0s 777us/step - loss: 0.6797 - accuracy: 0.6016\n",
      "Epoch 3/10\n",
      "4/4 [==============================] - 0s 757us/step - loss: 0.6446 - accuracy: 0.6875\n",
      "Epoch 4/10\n",
      "4/4 [==============================] - 0s 771us/step - loss: 0.6147 - accuracy: 0.7500\n",
      "Epoch 5/10\n",
      "4/4 [==============================] - 0s 747us/step - loss: 0.5885 - accuracy: 0.8047\n",
      "Epoch 6/10\n",
      "4/4 [==============================] - 0s 718us/step - loss: 0.5641 - accuracy: 0.8047\n",
      "Epoch 7/10\n",
      "4/4 [==============================] - 0s 753us/step - loss: 0.5403 - accuracy: 0.8359\n",
      "Epoch 8/10\n",
      "4/4 [==============================] - 0s 746us/step - loss: 0.5165 - accuracy: 0.8750\n",
      "Epoch 9/10\n",
      "4/4 [==============================] - 0s 692us/step - loss: 0.4926 - accuracy: 0.8984\n",
      "Epoch 10/10\n",
      "4/4 [==============================] - 0s 685us/step - loss: 0.4684 - accuracy: 0.9219\n"
     ]
    },
    {
     "name": "stderr",
     "output_type": "stream",
     "text": [
      "WARNING:absl:Found untraced functions such as _update_step_xla while saving (showing 1 of 1). These functions will not be directly callable after loading.\n"
     ]
    },
    {
     "name": "stdout",
     "output_type": "stream",
     "text": [
      "INFO:tensorflow:Assets written to: ./structured_data_classifier/best_model/assets\n"
     ]
    },
    {
     "name": "stderr",
     "output_type": "stream",
     "text": [
      "INFO:tensorflow:Assets written to: ./structured_data_classifier/best_model/assets\n",
      "2024-09-05 15:17:12.076326: I tensorflow/core/common_runtime/executor.cc:1197] [/device:CPU:0] (DEBUG INFO) Executor start aborting (this does not indicate an error and you can ignore this message): INVALID_ARGUMENT: You must feed a value for placeholder tensor 'Placeholder/_18' with dtype int64 and shape [32]\n",
      "\t [[{{node Placeholder/_18}}]]\n",
      "2024-09-05 15:17:12.076437: I tensorflow/core/common_runtime/executor.cc:1197] [/device:CPU:0] (DEBUG INFO) Executor start aborting (this does not indicate an error and you can ignore this message): INVALID_ARGUMENT: You must feed a value for placeholder tensor 'Placeholder/_18' with dtype int64 and shape [32]\n",
      "\t [[{{node Placeholder/_18}}]]\n"
     ]
    },
    {
     "name": "stdout",
     "output_type": "stream",
     "text": [
      "1/1 [==============================] - 0s 74ms/step - loss: 0.5483 - accuracy: 0.7500\n",
      "Test Accuracy: 0.750\n",
      "WARNING:tensorflow:5 out of the last 9 calls to <function Model.make_predict_function.<locals>.predict_function at 0x74ab56bd88b0> triggered tf.function retracing. Tracing is expensive and the excessive number of tracings could be due to (1) creating @tf.function repeatedly in a loop, (2) passing tensors with different shapes, (3) passing Python objects instead of tensors. For (1), please define your @tf.function outside of the loop. For (2), @tf.function has reduce_retracing=True option that can avoid unnecessary retracing. For (3), please refer to https://www.tensorflow.org/guide/function#controlling_retracing and https://www.tensorflow.org/api_docs/python/tf/function for  more details.\n"
     ]
    },
    {
     "name": "stderr",
     "output_type": "stream",
     "text": [
      "2024-09-05 15:17:12.291233: I tensorflow/core/common_runtime/executor.cc:1197] [/device:CPU:0] (DEBUG INFO) Executor start aborting (this does not indicate an error and you can ignore this message): INVALID_ARGUMENT: You must feed a value for placeholder tensor 'Placeholder/_0' with dtype double and shape [32,19]\n",
      "\t [[{{node Placeholder/_0}}]]\n",
      "2024-09-05 15:17:12.291310: I tensorflow/core/common_runtime/executor.cc:1197] [/device:CPU:0] (DEBUG INFO) Executor start aborting (this does not indicate an error and you can ignore this message): INVALID_ARGUMENT: You must feed a value for placeholder tensor 'Placeholder/_0' with dtype double and shape [32,19]\n",
      "\t [[{{node Placeholder/_0}}]]\n",
      "WARNING:tensorflow:5 out of the last 9 calls to <function Model.make_predict_function.<locals>.predict_function at 0x74ab56bd88b0> triggered tf.function retracing. Tracing is expensive and the excessive number of tracings could be due to (1) creating @tf.function repeatedly in a loop, (2) passing tensors with different shapes, (3) passing Python objects instead of tensors. For (1), please define your @tf.function outside of the loop. For (2), @tf.function has reduce_retracing=True option that can avoid unnecessary retracing. For (3), please refer to https://www.tensorflow.org/guide/function#controlling_retracing and https://www.tensorflow.org/api_docs/python/tf/function for  more details.\n"
     ]
    },
    {
     "name": "stdout",
     "output_type": "stream",
     "text": [
      "1/1 [==============================] - 0s 41ms/step\n",
      "1/1 [==============================] - 0s 3ms/step\n",
      "Accuracy: 0.7500\n",
      "Precision: 0.7222\n",
      "Recall: 0.8125\n",
      "F1 Score: 0.7647\n"
     ]
    }
   ],
   "source": [
    "import numpy as np\n",
    "import pandas as pd\n",
    "import tensorflow as tf\n",
    "import autokeras as ak\n",
    "from sklearn.model_selection import train_test_split\n",
    "from sklearn.metrics import accuracy_score, precision_score, recall_score, f1_score\n",
    "\n",
    "# Load your dataset\n",
    "data = pd.read_csv('/home/michael/Documenti/Milinda_Githubproject/Feartures_Forge_Image.csv')\n",
    "\n",
    "# Define the label (target column)\n",
    "label = 'Label'  # Assuming the label column is named 'Label'\n",
    "\n",
    "# Split the dataset into training (80%) and testing (20%) sets\n",
    "train_data, test_data = train_test_split(data, test_size=0.2, random_state=42, stratify=data[label])\n",
    "\n",
    "# Separate features and target\n",
    "x_train = train_data.drop(columns=[label])\n",
    "y_train = train_data[label]\n",
    "x_test = test_data.drop(columns=[label])\n",
    "y_test = test_data[label]\n",
    "\n",
    "# Convert the features to a numpy array for AutoKeras\n",
    "x_train = np.array(x_train)\n",
    "x_test = np.array(x_test)\n",
    "\n",
    "# Initialize the AutoKeras StructuredDataClassifier\n",
    "clf = ak.StructuredDataClassifier(overwrite=True, max_trials=5)  # max_trials sets the number of models to try\n",
    "\n",
    "# Train the classifier\n",
    "clf.fit(x_train, y_train, epochs=10)  # Increase epochs to train longer if needed\n",
    "\n",
    "# Evaluate the classifier\n",
    "loss, accuracy = clf.evaluate(x_test, y_test)\n",
    "print(f\"Test Accuracy: {accuracy:.3f}\")\n",
    "\n",
    "# Predict with the best model\n",
    "y_pred = clf.predict(x_test).flatten()\n",
    "\n",
    "# Calculate Accuracy, Precision, Recall, and F1 Score\n",
    "accuracy = accuracy_score(y_test, y_pred)\n",
    "precision = precision_score(y_test, y_pred)\n",
    "recall = recall_score(y_test, y_pred)\n",
    "f1 = f1_score(y_test, y_pred)\n",
    "\n",
    "# Print the metrics\n",
    "print(f\"Accuracy: {accuracy:.4f}\")\n",
    "print(f\"Precision: {precision:.4f}\")\n",
    "print(f\"Recall: {recall:.4f}\")\n",
    "print(f\"F1 Score: {f1:.4f}\")\n"
   ]
  },
  {
   "cell_type": "code",
   "execution_count": null,
   "id": "96557956-a9c4-4bbb-b597-4b7b81e9ad3b",
   "metadata": {},
   "outputs": [],
   "source": []
  }
 ],
 "metadata": {
  "kernelspec": {
   "display_name": "Python 3 (ipykernel)",
   "language": "python",
   "name": "python3"
  },
  "language_info": {
   "codemirror_mode": {
    "name": "ipython",
    "version": 3
   },
   "file_extension": ".py",
   "mimetype": "text/x-python",
   "name": "python",
   "nbconvert_exporter": "python",
   "pygments_lexer": "ipython3",
   "version": "3.9.19"
  }
 },
 "nbformat": 4,
 "nbformat_minor": 5
}
