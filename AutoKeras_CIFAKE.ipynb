{
 "cells": [
  {
   "cell_type": "code",
   "execution_count": 1,
   "id": "e49339d5-8189-4628-bdae-2010749967d3",
   "metadata": {},
   "outputs": [
    {
     "name": "stdout",
     "output_type": "stream",
     "text": [
      "Trial 3 Complete [02h 13m 54s]\n",
      "val_loss: 0.2287062555551529\n",
      "\n",
      "Best val_loss So Far: 0.2287062555551529\n",
      "Total elapsed time: 02h 51m 16s\n",
      "Epoch 1/5\n",
      "502/502 [==============================] - 1920s 4s/step - loss: 0.3087 - accuracy: 0.8686\n",
      "Epoch 2/5\n",
      "502/502 [==============================] - 1893s 4s/step - loss: 0.1678 - accuracy: 0.9353\n",
      "Epoch 3/5\n",
      "502/502 [==============================] - 1892s 4s/step - loss: 0.1175 - accuracy: 0.9559\n",
      "Epoch 4/5\n",
      "502/502 [==============================] - 1893s 4s/step - loss: 0.0844 - accuracy: 0.9685\n",
      "Epoch 5/5\n",
      "502/502 [==============================] - 1899s 4s/step - loss: 0.0583 - accuracy: 0.9798\n",
      "INFO:tensorflow:Assets written to: ./image_classifier/best_model/assets\n"
     ]
    },
    {
     "name": "stderr",
     "output_type": "stream",
     "text": [
      "INFO:tensorflow:Assets written to: ./image_classifier/best_model/assets\n"
     ]
    },
    {
     "data": {
      "text/plain": [
       "<keras.src.callbacks.History at 0x7be3fdbb3fd0>"
      ]
     },
     "execution_count": 1,
     "metadata": {},
     "output_type": "execute_result"
    }
   ],
   "source": [
    "import numpy as np\n",
    "import os\n",
    "import tensorflow as tf\n",
    "from keras.datasets import mnist\n",
    "\n",
    "import autokeras as ak\n",
    "from sklearn.model_selection import train_test_split\n",
    "from tensorflow.keras.preprocessing import image\n",
    "from IPython.display import Image as IPImage, display  # for displaying images in Jupyter\n",
    "\n",
    "\n",
    "# File paths for the Fake and Real image directories\n",
    "fake_dir = '/home/michael/Documenti/Milinda_Githubproject/CIFAKE/Fake/'\n",
    "real_dir = '/home/michael/Documenti/Milinda_Githubproject/CIFAKE/Real/'\n",
    "\n",
    "# Prepare the data\n",
    "def prepare_data(fake_dir, real_dir, img_size=(128, 128)):\n",
    "    images = []\n",
    "    image_paths = []\n",
    "    labels = []\n",
    "\n",
    "    # Fake images\n",
    "    for img_name in os.listdir(fake_dir):\n",
    "        if img_name.endswith(('.png', '.jpg', '.jpeg', '.gif')):\n",
    "            img_path = os.path.join(fake_dir, img_name)\n",
    "            img = image.load_img(img_path, target_size=img_size)\n",
    "            img = image.img_to_array(img)\n",
    "            img /= 255.0  # Normalize the images\n",
    "            images.append(img)\n",
    "            labels.append(0)  # Fake = 0\n",
    "            image_paths.append(img_path)\n",
    "\n",
    "    # Real images\n",
    "    for img_name in os.listdir(real_dir):\n",
    "        if img_name.endswith(('.png', '.jpg', '.jpeg', '.gif')):\n",
    "            img_path = os.path.join(real_dir, img_name)\n",
    "            img = image.load_img(img_path, target_size=img_size)\n",
    "            img = image.img_to_array(img)\n",
    "            img /= 255.0  # Normalize the images\n",
    "            images.append(img)\n",
    "            labels.append(1)  # Real = 1\n",
    "            image_paths.append(img_path)\n",
    "\n",
    "    # Convert to numpy arrays\n",
    "    images = np.array(images)\n",
    "    labels = np.array(labels)\n",
    "\n",
    "    return images, labels, image_paths\n",
    "\n",
    "# Load and prepare the data\n",
    "x_data, y_data, image_paths = prepare_data(fake_dir, real_dir)\n",
    "\n",
    "# Split the data into training and testing sets (80/20 split)\n",
    "x_train, x_test, y_train, y_test, image_paths_train, image_paths_test = train_test_split(x_data, y_data, image_paths, test_size=0.2, random_state=42)\n",
    "\n",
    "# Initialize the AutoKeras ImageClassifier\n",
    "clf = ak.ImageClassifier(overwrite=True, max_trials=3)  # max_trials sets the number of models to try\n",
    "\n",
    "# Train the classifier\n",
    "clf.fit(x_train, y_train, epochs=5) # Increase epochs to train longer if needed\n",
    "\n",
    "\n"
   ]
  },
  {
   "cell_type": "code",
   "execution_count": 2,
   "id": "16445d41-e47b-47c3-bc2d-f56b4a3f8f2c",
   "metadata": {},
   "outputs": [
    {
     "name": "stdout",
     "output_type": "stream",
     "text": [
      "126/126 [==============================] - 103s 802ms/step - loss: 0.3240 - accuracy: 0.8891\n",
      "Test accuracy: 0.8891380429267883\n",
      "126/126 [==============================] - 104s 817ms/step - loss: 0.3240 - accuracy: 0.8891\n",
      "Test Accuracy: 0.889\n",
      "126/126 [==============================] - 102s 796ms/step\n",
      "126/126 [==============================] - 101s 804ms/step\n",
      "Predicted labels: [1. 1. 0. 0. 1.]\n",
      "True labels: [1 1 0 0 1]\n"
     ]
    }
   ],
   "source": [
    "# Evaluate the classifier\n",
    "test_loss, test_acc = clf.evaluate(x_test, y_test)\n",
    "print(f\"Test accuracy: {test_acc}\")\n",
    "# Evaluate the model on the test data\n",
    "test_loss, test_acc = clf.evaluate(x_test, y_test)\n",
    "print(f\"Test Accuracy: {test_acc:.3f}\")\n",
    "\n",
    "# Predict with the best model\n",
    "y_pred = clf.predict(x_test)\n",
    "print(f\"Predicted labels: {y_pred[:5].flatten()}\")\n",
    "print(f\"True labels: {y_test[:5]}\")"
   ]
  },
  {
   "cell_type": "code",
   "execution_count": 22,
   "id": "cad05dc5-e15d-4fe2-a8f3-0f3dd500debe",
   "metadata": {},
   "outputs": [
    {
     "name": "stdout",
     "output_type": "stream",
     "text": [
      "Model: \"model\"\n",
      "_________________________________________________________________\n",
      " Layer (type)                Output Shape              Param #   \n",
      "=================================================================\n",
      " input_1 (InputLayer)        [(None, 128, 128, 3)]     0         \n",
      "                                                                 \n",
      " cast_to_float32 (CastToFlo  (None, 128, 128, 3)       0         \n",
      " at32)                                                           \n",
      "                                                                 \n",
      " normalization (Normalizati  (None, 128, 128, 3)       7         \n",
      " on)                                                             \n",
      "                                                                 \n",
      " random_translation (Random  (None, 128, 128, 3)       0         \n",
      " Translation)                                                    \n",
      "                                                                 \n",
      " random_flip (RandomFlip)    (None, 128, 128, 3)       0         \n",
      "                                                                 \n",
      " resizing (Resizing)         (None, 224, 224, 3)       0         \n",
      "                                                                 \n",
      " efficientnetb7 (Functional  (None, None, None, 2560   64097687  \n",
      " )                           )                                   \n",
      "                                                                 \n",
      " global_average_pooling2d (  (None, 2560)              0         \n",
      " GlobalAveragePooling2D)                                         \n",
      "                                                                 \n",
      " dense (Dense)               (None, 1)                 2561      \n",
      "                                                                 \n",
      " classification_head_1 (Act  (None, 1)                 0         \n",
      " ivation)                                                        \n",
      "                                                                 \n",
      "=================================================================\n",
      "Total params: 64100255 (244.52 MB)\n",
      "Trainable params: 63789521 (243.34 MB)\n",
      "Non-trainable params: 310734 (1.19 MB)\n",
      "_________________________________________________________________\n"
     ]
    }
   ],
   "source": [
    "keras_model=clf.export_model()\n",
    "keras_model.summary()\n",
    "\n",
    "\n",
    "# Evaluate save file\n",
    "#predictor.save("
   ]
  },
  {
   "cell_type": "code",
   "execution_count": 3,
   "id": "7b7aaf9e-716e-4b53-84a9-1c0939a7292e",
   "metadata": {
    "scrolled": true
   },
   "outputs": [
    {
     "name": "stdout",
     "output_type": "stream",
     "text": [
      "Accuracy: 0.8891\n",
      "Precision: 0.8285\n",
      "Recall: 0.9778\n",
      "F1 Score: 0.8970\n"
     ]
    }
   ],
   "source": [
    "from sklearn.metrics import accuracy_score, precision_score, recall_score, f1_score\n",
    "accuracy = accuracy_score(y_test, y_pred)\n",
    "precision = precision_score(y_test, y_pred)\n",
    "recall = recall_score(y_test, y_pred)\n",
    "f1 = f1_score(y_test, y_pred)\n",
    "print(f\"Accuracy: {accuracy:.4f}\")\n",
    "print(f\"Precision: {precision:.4f}\")\n",
    "print(f\"Recall: {recall:.4f}\")\n",
    "print(f\"F1 Score: {f1:.4f}\")"
   ]
  },
  {
   "cell_type": "code",
   "execution_count": 19,
   "id": "4084e1b7-b936-4f67-85fd-a0df9731a66a",
   "metadata": {},
   "outputs": [
    {
     "data": {
      "image/jpeg": "[encoded data removed]",
      "text/plain": [
       "<IPython.core.display.Image object>"
      ]
     },
     "metadata": {},
     "output_type": "display_data"
    },
    {
     "name": "stdout",
     "output_type": "stream",
     "text": [
      "True Label: Real\n",
      "Predicted Label: Real\n"
     ]
    }
   ],
   "source": [
    "# Take one image from the test data, show it, and display the label and prediction\n",
    "sample_index = 984 # You can change this index to display a different image\n",
    "\n",
    "sample_image_path = image_paths_test[sample_index]\n",
    "true_label = y_test[sample_index]\n",
    "\n",
    "# Convert predicted_label to a scalar if it's a numpy array\n",
    "predicted_label = y_pred[sample_index]\n",
    "if isinstance(predicted_label, np.ndarray):\n",
    "    predicted_label = predicted_label.item()\n",
    "\n",
    "# Convert label numbers to human-readable labels\n",
    "label_map = {0: 'Fake', 1: 'Real'}\n",
    "true_label_text = label_map[true_label]\n",
    "predicted_label_text = label_map[predicted_label]\n",
    "\n",
    "# Display the image\n",
    "display(IPImage(filename=sample_image_path))\n",
    "\n",
    "# Print the true label and predicted label\n",
    "print(f\"True Label: {true_label_text}\")\n",
    "print(f\"Predicted Label: {predicted_label_text}\")\n"
   ]
  },
  {
   "cell_type": "code",
   "execution_count": 2,
   "id": "d7a715ac-25d4-47bf-b06c-8375eb63529c",
   "metadata": {},
   "outputs": [
    {
     "name": "stderr",
     "output_type": "stream",
     "text": [
      "2024-09-04 17:41:45.118597: I tensorflow/core/util/port.cc:110] oneDNN custom operations are on. You may see slightly different numerical results due to floating-point round-off errors from different computation orders. To turn them off, set the environment variable `TF_ENABLE_ONEDNN_OPTS=0`.\n",
      "2024-09-04 17:41:45.139475: I tensorflow/core/platform/cpu_feature_guard.cc:182] This TensorFlow binary is optimized to use available CPU instructions in performance-critical operations.\n",
      "To enable the following instructions: AVX2 AVX_VNNI FMA, in other operations, rebuild TensorFlow with the appropriate compiler flags.\n",
      "2024-09-04 17:41:45.445546: W tensorflow/compiler/tf2tensorrt/utils/py_utils.cc:38] TF-TRT Warning: Could not find TensorRT\n"
     ]
    }
   ],
   "source": [
    "import numpy as np\n",
    "import tensorflow as tf\n",
    "from keras.datasets import mnist\n",
    "\n",
    "import autokeras as ak\n",
    "\n",
    "\n"
   ]
  },
  {
   "cell_type": "code",
   "execution_count": 1,
   "id": "f2651109-7c3d-4709-a18f-6c9972003952",
   "metadata": {},
   "outputs": [
    {
     "name": "stdout",
     "output_type": "stream",
     "text": [
      "Requirement already satisfied: autokeras in /home/michael/miniconda3/envs/autoKeras/lib/python3.9/site-packages (1.0.20)\n",
      "Requirement already satisfied: packaging in /home/michael/miniconda3/envs/autoKeras/lib/python3.9/site-packages (from autokeras) (24.1)\n",
      "Requirement already satisfied: tensorflow>=2.8.0 in /home/michael/miniconda3/envs/autoKeras/lib/python3.9/site-packages (from autokeras) (2.12.0)\n",
      "Requirement already satisfied: keras-tuner>=1.1.0 in /home/michael/miniconda3/envs/autoKeras/lib/python3.9/site-packages (from autokeras) (1.4.7)\n",
      "Requirement already satisfied: pandas in /home/michael/miniconda3/envs/autoKeras/lib/python3.9/site-packages (from autokeras) (2.2.2)\n",
      "Requirement already satisfied: keras in /home/michael/miniconda3/envs/autoKeras/lib/python3.9/site-packages (from keras-tuner>=1.1.0->autokeras) (2.12.0)\n",
      "Requirement already satisfied: requests in /home/michael/miniconda3/envs/autoKeras/lib/python3.9/site-packages (from keras-tuner>=1.1.0->autokeras) (2.32.3)\n",
      "Requirement already satisfied: kt-legacy in /home/michael/miniconda3/envs/autoKeras/lib/python3.9/site-packages (from keras-tuner>=1.1.0->autokeras) (1.0.5)\n",
      "Requirement already satisfied: absl-py>=1.0.0 in /home/michael/miniconda3/envs/autoKeras/lib/python3.9/site-packages (from tensorflow>=2.8.0->autokeras) (2.1.0)\n",
      "Requirement already satisfied: astunparse>=1.6.0 in /home/michael/miniconda3/envs/autoKeras/lib/python3.9/site-packages (from tensorflow>=2.8.0->autokeras) (1.6.3)\n",
      "Requirement already satisfied: flatbuffers>=2.0 in /home/michael/miniconda3/envs/autoKeras/lib/python3.9/site-packages (from tensorflow>=2.8.0->autokeras) (24.3.25)\n",
      "Requirement already satisfied: gast<=0.4.0,>=0.2.1 in /home/michael/miniconda3/envs/autoKeras/lib/python3.9/site-packages (from tensorflow>=2.8.0->autokeras) (0.4.0)\n",
      "Requirement already satisfied: google-pasta>=0.1.1 in /home/michael/miniconda3/envs/autoKeras/lib/python3.9/site-packages (from tensorflow>=2.8.0->autokeras) (0.2.0)\n",
      "Requirement already satisfied: grpcio<2.0,>=1.24.3 in /home/michael/miniconda3/envs/autoKeras/lib/python3.9/site-packages (from tensorflow>=2.8.0->autokeras) (1.66.1)\n",
      "Requirement already satisfied: h5py>=2.9.0 in /home/michael/miniconda3/envs/autoKeras/lib/python3.9/site-packages (from tensorflow>=2.8.0->autokeras) (3.11.0)\n",
      "Requirement already satisfied: jax>=0.3.15 in /home/michael/miniconda3/envs/autoKeras/lib/python3.9/site-packages (from tensorflow>=2.8.0->autokeras) (0.4.30)\n",
      "Requirement already satisfied: libclang>=13.0.0 in /home/michael/miniconda3/envs/autoKeras/lib/python3.9/site-packages (from tensorflow>=2.8.0->autokeras) (18.1.1)\n",
      "Requirement already satisfied: numpy<1.24,>=1.22 in /home/michael/miniconda3/envs/autoKeras/lib/python3.9/site-packages (from tensorflow>=2.8.0->autokeras) (1.23.5)\n",
      "Requirement already satisfied: opt-einsum>=2.3.2 in /home/michael/miniconda3/envs/autoKeras/lib/python3.9/site-packages (from tensorflow>=2.8.0->autokeras) (3.3.0)\n",
      "Requirement already satisfied: protobuf!=4.21.0,!=4.21.1,!=4.21.2,!=4.21.3,!=4.21.4,!=4.21.5,<5.0.0dev,>=3.20.3 in /home/michael/miniconda3/envs/autoKeras/lib/python3.9/site-packages (from tensorflow>=2.8.0->autokeras) (4.25.4)\n",
      "Requirement already satisfied: setuptools in /home/michael/miniconda3/envs/autoKeras/lib/python3.9/site-packages (from tensorflow>=2.8.0->autokeras) (72.1.0)\n",
      "Requirement already satisfied: six>=1.12.0 in /home/michael/miniconda3/envs/autoKeras/lib/python3.9/site-packages (from tensorflow>=2.8.0->autokeras) (1.16.0)\n",
      "Requirement already satisfied: tensorboard<2.13,>=2.12 in /home/michael/miniconda3/envs/autoKeras/lib/python3.9/site-packages (from tensorflow>=2.8.0->autokeras) (2.12.3)\n",
      "Requirement already satisfied: tensorflow-estimator<2.13,>=2.12.0 in /home/michael/miniconda3/envs/autoKeras/lib/python3.9/site-packages (from tensorflow>=2.8.0->autokeras) (2.12.0)\n",
      "Requirement already satisfied: termcolor>=1.1.0 in /home/michael/miniconda3/envs/autoKeras/lib/python3.9/site-packages (from tensorflow>=2.8.0->autokeras) (2.4.0)\n",
      "Requirement already satisfied: typing-extensions>=3.6.6 in /home/michael/miniconda3/envs/autoKeras/lib/python3.9/site-packages (from tensorflow>=2.8.0->autokeras) (4.11.0)\n",
      "Requirement already satisfied: wrapt<1.15,>=1.11.0 in /home/michael/miniconda3/envs/autoKeras/lib/python3.9/site-packages (from tensorflow>=2.8.0->autokeras) (1.14.1)\n",
      "Requirement already satisfied: tensorflow-io-gcs-filesystem>=0.23.1 in /home/michael/miniconda3/envs/autoKeras/lib/python3.9/site-packages (from tensorflow>=2.8.0->autokeras) (0.37.1)\n",
      "Requirement already satisfied: python-dateutil>=2.8.2 in /home/michael/miniconda3/envs/autoKeras/lib/python3.9/site-packages (from pandas->autokeras) (2.9.0.post0)\n",
      "Requirement already satisfied: pytz>=2020.1 in /home/michael/miniconda3/envs/autoKeras/lib/python3.9/site-packages (from pandas->autokeras) (2024.1)\n",
      "Requirement already satisfied: tzdata>=2022.7 in /home/michael/miniconda3/envs/autoKeras/lib/python3.9/site-packages (from pandas->autokeras) (2024.1)\n",
      "Requirement already satisfied: wheel<1.0,>=0.23.0 in /home/michael/miniconda3/envs/autoKeras/lib/python3.9/site-packages (from astunparse>=1.6.0->tensorflow>=2.8.0->autokeras) (0.43.0)\n",
      "Requirement already satisfied: jaxlib<=0.4.30,>=0.4.27 in /home/michael/miniconda3/envs/autoKeras/lib/python3.9/site-packages (from jax>=0.3.15->tensorflow>=2.8.0->autokeras) (0.4.30)\n",
      "Requirement already satisfied: ml-dtypes>=0.2.0 in /home/michael/miniconda3/envs/autoKeras/lib/python3.9/site-packages (from jax>=0.3.15->tensorflow>=2.8.0->autokeras) (0.4.0)\n",
      "Requirement already satisfied: scipy>=1.9 in /home/michael/miniconda3/envs/autoKeras/lib/python3.9/site-packages (from jax>=0.3.15->tensorflow>=2.8.0->autokeras) (1.13.1)\n",
      "Requirement already satisfied: importlib-metadata>=4.6 in /home/michael/miniconda3/envs/autoKeras/lib/python3.9/site-packages (from jax>=0.3.15->tensorflow>=2.8.0->autokeras) (7.0.1)\n",
      "Requirement already satisfied: google-auth<3,>=1.6.3 in /home/michael/miniconda3/envs/autoKeras/lib/python3.9/site-packages (from tensorboard<2.13,>=2.12->tensorflow>=2.8.0->autokeras) (2.34.0)\n",
      "Requirement already satisfied: google-auth-oauthlib<1.1,>=0.5 in /home/michael/miniconda3/envs/autoKeras/lib/python3.9/site-packages (from tensorboard<2.13,>=2.12->tensorflow>=2.8.0->autokeras) (1.0.0)\n",
      "Requirement already satisfied: markdown>=2.6.8 in /home/michael/miniconda3/envs/autoKeras/lib/python3.9/site-packages (from tensorboard<2.13,>=2.12->tensorflow>=2.8.0->autokeras) (3.7)\n",
      "Requirement already satisfied: tensorboard-data-server<0.8.0,>=0.7.0 in /home/michael/miniconda3/envs/autoKeras/lib/python3.9/site-packages (from tensorboard<2.13,>=2.12->tensorflow>=2.8.0->autokeras) (0.7.2)\n",
      "Requirement already satisfied: werkzeug>=1.0.1 in /home/michael/miniconda3/envs/autoKeras/lib/python3.9/site-packages (from tensorboard<2.13,>=2.12->tensorflow>=2.8.0->autokeras) (3.0.4)\n",
      "Requirement already satisfied: charset-normalizer<4,>=2 in /home/michael/miniconda3/envs/autoKeras/lib/python3.9/site-packages (from requests->keras-tuner>=1.1.0->autokeras) (3.3.2)\n",
      "Requirement already satisfied: idna<4,>=2.5 in /home/michael/miniconda3/envs/autoKeras/lib/python3.9/site-packages (from requests->keras-tuner>=1.1.0->autokeras) (3.7)\n",
      "Requirement already satisfied: urllib3<3,>=1.21.1 in /home/michael/miniconda3/envs/autoKeras/lib/python3.9/site-packages (from requests->keras-tuner>=1.1.0->autokeras) (2.2.2)\n",
      "Requirement already satisfied: certifi>=2017.4.17 in /home/michael/miniconda3/envs/autoKeras/lib/python3.9/site-packages (from requests->keras-tuner>=1.1.0->autokeras) (2024.7.4)\n",
      "Requirement already satisfied: cachetools<6.0,>=2.0.0 in /home/michael/miniconda3/envs/autoKeras/lib/python3.9/site-packages (from google-auth<3,>=1.6.3->tensorboard<2.13,>=2.12->tensorflow>=2.8.0->autokeras) (5.5.0)\n",
      "Requirement already satisfied: pyasn1-modules>=0.2.1 in /home/michael/miniconda3/envs/autoKeras/lib/python3.9/site-packages (from google-auth<3,>=1.6.3->tensorboard<2.13,>=2.12->tensorflow>=2.8.0->autokeras) (0.4.0)\n",
      "Requirement already satisfied: rsa<5,>=3.1.4 in /home/michael/miniconda3/envs/autoKeras/lib/python3.9/site-packages (from google-auth<3,>=1.6.3->tensorboard<2.13,>=2.12->tensorflow>=2.8.0->autokeras) (4.9)\n",
      "Requirement already satisfied: requests-oauthlib>=0.7.0 in /home/michael/miniconda3/envs/autoKeras/lib/python3.9/site-packages (from google-auth-oauthlib<1.1,>=0.5->tensorboard<2.13,>=2.12->tensorflow>=2.8.0->autokeras) (2.0.0)\n",
      "Requirement already satisfied: zipp>=0.5 in /home/michael/miniconda3/envs/autoKeras/lib/python3.9/site-packages (from importlib-metadata>=4.6->jax>=0.3.15->tensorflow>=2.8.0->autokeras) (3.17.0)\n",
      "Requirement already satisfied: MarkupSafe>=2.1.1 in /home/michael/miniconda3/envs/autoKeras/lib/python3.9/site-packages (from werkzeug>=1.0.1->tensorboard<2.13,>=2.12->tensorflow>=2.8.0->autokeras) (2.1.3)\n",
      "Requirement already satisfied: pyasn1<0.7.0,>=0.4.6 in /home/michael/miniconda3/envs/autoKeras/lib/python3.9/site-packages (from pyasn1-modules>=0.2.1->google-auth<3,>=1.6.3->tensorboard<2.13,>=2.12->tensorflow>=2.8.0->autokeras) (0.6.0)\n",
      "Requirement already satisfied: oauthlib>=3.0.0 in /home/michael/miniconda3/envs/autoKeras/lib/python3.9/site-packages (from requests-oauthlib>=0.7.0->google-auth-oauthlib<1.1,>=0.5->tensorboard<2.13,>=2.12->tensorflow>=2.8.0->autokeras) (3.2.2)\n"
     ]
    }
   ],
   "source": [
    "!pip install autokeras"
   ]
  },
  {
   "cell_type": "code",
   "execution_count": 8,
   "id": "88715b2a-60d7-45b2-be1e-f71d41dab465",
   "metadata": {},
   "outputs": [
    {
     "name": "stdout",
     "output_type": "stream",
     "text": [
      "Collecting pillow\n",
      "  Using cached pillow-10.4.0-cp39-cp39-manylinux_2_28_x86_64.whl.metadata (9.2 kB)\n",
      "Using cached pillow-10.4.0-cp39-cp39-manylinux_2_28_x86_64.whl (4.5 MB)\n",
      "Installing collected packages: pillow\n",
      "Successfully installed pillow-10.4.0\n"
     ]
    }
   ],
   "source": [
    "!pip install pillow"
   ]
  },
  {
   "cell_type": "code",
   "execution_count": 2,
   "id": "8d90a256-af59-464e-a1fd-da196486090e",
   "metadata": {},
   "outputs": [
    {
     "name": "stdout",
     "output_type": "stream",
     "text": [
      "TensorRT is available in TensorFlow.\n",
      "<module 'tensorflow.python.compiler.tensorrt.trt_convert' from '/home/michael/miniconda3/envs/autoKeras/lib/python3.9/site-packages/tensorflow/python/compiler/tensorrt/trt_convert.py'>\n"
     ]
    }
   ],
   "source": [
    "import tensorflow as tf\n",
    "from tensorflow.python.compiler.tensorrt import trt_convert\n",
    "\n",
    "try:\n",
    "    print(\"TensorRT is available in TensorFlow.\")\n",
    "    print(trt_convert)\n",
    "except ImportError:\n",
    "    print(\"TensorRT is not available in TensorFlow.\")\n",
    "\n"
   ]
  },
  {
   "cell_type": "code",
   "execution_count": null,
   "id": "ef0293fc-f533-4253-9785-117fce6bde50",
   "metadata": {},
   "outputs": [],
   "source": []
  }
 ],
 "metadata": {
  "kernelspec": {
   "display_name": "Python 3 (ipykernel)",
   "language": "python",
   "name": "python3"
  },
  "language_info": {
   "codemirror_mode": {
    "name": "ipython",
    "version": 3
   },
   "file_extension": ".py",
   "mimetype": "text/x-python",
   "name": "python",
   "nbconvert_exporter": "python",
   "pygments_lexer": "ipython3",
   "version": "3.8.19"
  }
 },
 "nbformat": 4,
 "nbformat_minor": 5
}
