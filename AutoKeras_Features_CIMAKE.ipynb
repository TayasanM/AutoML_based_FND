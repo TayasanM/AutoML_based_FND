{
 "cells": [
  {
   "cell_type": "code",
   "execution_count": 1,
   "id": "42e2cc48-352b-4d59-b26b-ed830d11ee34",
   "metadata": {},
   "outputs": [
    {
     "name": "stdout",
     "output_type": "stream",
     "text": [
      "Trial 3 Complete [00h 00m 07s]\n",
      "val_accuracy: 0.9968632459640503\n",
      "\n",
      "Best val_accuracy So Far: 0.9968632459640503\n",
      "Total elapsed time: 00h 00m 18s\n"
     ]
    },
    {
     "name": "stderr",
     "output_type": "stream",
     "text": [
      "2024-09-05 15:04:20.460914: I tensorflow/core/common_runtime/executor.cc:1197] [/device:CPU:0] (DEBUG INFO) Executor start aborting (this does not indicate an error and you can ignore this message): INVALID_ARGUMENT: You must feed a value for placeholder tensor 'Placeholder/_13' with dtype double and shape [16052,19]\n",
      "\t [[{{node Placeholder/_13}}]]\n",
      "2024-09-05 15:04:20.461151: I tensorflow/core/common_runtime/executor.cc:1197] [/device:CPU:0] (DEBUG INFO) Executor start aborting (this does not indicate an error and you can ignore this message): INVALID_ARGUMENT: You must feed a value for placeholder tensor 'Placeholder/_29' with dtype double and shape [16052,19]\n",
      "\t [[{{node Placeholder/_29}}]]\n",
      "2024-09-05 15:04:20.589783: I tensorflow/core/common_runtime/executor.cc:1197] [/device:CPU:0] (DEBUG INFO) Executor start aborting (this does not indicate an error and you can ignore this message): INVALID_ARGUMENT: You must feed a value for placeholder tensor 'Placeholder/_63' with dtype int64\n",
      "\t [[{{node Placeholder/_63}}]]\n",
      "2024-09-05 15:04:20.590031: I tensorflow/core/common_runtime/executor.cc:1197] [/device:CPU:0] (DEBUG INFO) Executor start aborting (this does not indicate an error and you can ignore this message): INVALID_ARGUMENT: You must feed a value for placeholder tensor 'Placeholder/_34' with dtype int64 and shape [16052]\n",
      "\t [[{{node Placeholder/_34}}]]\n"
     ]
    },
    {
     "name": "stdout",
     "output_type": "stream",
     "text": [
      "Epoch 1/10\n"
     ]
    },
    {
     "name": "stderr",
     "output_type": "stream",
     "text": [
      "2024-09-05 15:04:20.768738: I tensorflow/core/common_runtime/executor.cc:1197] [/device:CPU:0] (DEBUG INFO) Executor start aborting (this does not indicate an error and you can ignore this message): INVALID_ARGUMENT: You must feed a value for placeholder tensor 'Placeholder/_18' with dtype int64 and shape [16052]\n",
      "\t [[{{node Placeholder/_18}}]]\n",
      "2024-09-05 15:04:20.769013: I tensorflow/core/common_runtime/executor.cc:1197] [/device:CPU:0] (DEBUG INFO) Executor start aborting (this does not indicate an error and you can ignore this message): INVALID_ARGUMENT: You must feed a value for placeholder tensor 'Placeholder/_29' with dtype double and shape [16052,19]\n",
      "\t [[{{node Placeholder/_29}}]]\n"
     ]
    },
    {
     "name": "stdout",
     "output_type": "stream",
     "text": [
      "502/502 [==============================] - 1s 1ms/step - loss: 0.2209 - accuracy: 0.9211\n",
      "Epoch 2/10\n",
      "502/502 [==============================] - 0s 366us/step - loss: 0.0343 - accuracy: 0.9888\n",
      "Epoch 3/10\n",
      "502/502 [==============================] - 0s 690us/step - loss: 0.0217 - accuracy: 0.9928\n",
      "Epoch 4/10\n",
      "502/502 [==============================] - 0s 751us/step - loss: 0.0164 - accuracy: 0.9939\n",
      "Epoch 5/10\n",
      "502/502 [==============================] - 0s 649us/step - loss: 0.0131 - accuracy: 0.9951\n",
      "Epoch 6/10\n",
      "502/502 [==============================] - 1s 1ms/step - loss: 0.0108 - accuracy: 0.9961\n",
      "Epoch 7/10\n",
      "502/502 [==============================] - 0s 607us/step - loss: 0.0092 - accuracy: 0.9969\n",
      "Epoch 8/10\n",
      "502/502 [==============================] - 0s 409us/step - loss: 0.0081 - accuracy: 0.9973\n",
      "Epoch 9/10\n",
      "502/502 [==============================] - 0s 827us/step - loss: 0.0072 - accuracy: 0.9977\n",
      "Epoch 10/10\n",
      "502/502 [==============================] - 0s 522us/step - loss: 0.0064 - accuracy: 0.9978\n"
     ]
    },
    {
     "name": "stderr",
     "output_type": "stream",
     "text": [
      "WARNING:absl:Found untraced functions such as _update_step_xla while saving (showing 1 of 1). These functions will not be directly callable after loading.\n"
     ]
    },
    {
     "name": "stdout",
     "output_type": "stream",
     "text": [
      "INFO:tensorflow:Assets written to: ./structured_data_classifier/best_model/assets\n"
     ]
    },
    {
     "name": "stderr",
     "output_type": "stream",
     "text": [
      "INFO:tensorflow:Assets written to: ./structured_data_classifier/best_model/assets\n",
      "2024-09-05 15:04:25.328789: I tensorflow/core/common_runtime/executor.cc:1197] [/device:CPU:0] (DEBUG INFO) Executor start aborting (this does not indicate an error and you can ignore this message): INVALID_ARGUMENT: You must feed a value for placeholder tensor 'Placeholder/_18' with dtype int64 and shape [4014]\n",
      "\t [[{{node Placeholder/_18}}]]\n",
      "2024-09-05 15:04:25.328899: I tensorflow/core/common_runtime/executor.cc:1197] [/device:CPU:0] (DEBUG INFO) Executor start aborting (this does not indicate an error and you can ignore this message): INVALID_ARGUMENT: You must feed a value for placeholder tensor 'Placeholder/_18' with dtype int64 and shape [4014]\n",
      "\t [[{{node Placeholder/_18}}]]\n"
     ]
    },
    {
     "name": "stdout",
     "output_type": "stream",
     "text": [
      "126/126 [==============================] - 0s 469us/step - loss: 0.0085 - accuracy: 0.9978\n",
      "Test Accuracy: 0.998\n",
      "126/126 [==============================] - 0s 448us/step\n",
      "126/126 [==============================] - 0s 285us/step\n",
      "Accuracy: 0.998\n",
      "Precision: 0.997\n",
      "Recall: 0.999\n",
      "F1 Score: 0.998\n"
     ]
    },
    {
     "name": "stderr",
     "output_type": "stream",
     "text": [
      "2024-09-05 15:04:25.601056: I tensorflow/core/common_runtime/executor.cc:1197] [/device:CPU:0] (DEBUG INFO) Executor start aborting (this does not indicate an error and you can ignore this message): INVALID_ARGUMENT: You must feed a value for placeholder tensor 'Placeholder/_0' with dtype double and shape [4014,19]\n",
      "\t [[{{node Placeholder/_0}}]]\n",
      "2024-09-05 15:04:25.601172: I tensorflow/core/common_runtime/executor.cc:1197] [/device:CPU:0] (DEBUG INFO) Executor start aborting (this does not indicate an error and you can ignore this message): INVALID_ARGUMENT: You must feed a value for placeholder tensor 'Placeholder/_0' with dtype double and shape [4014,19]\n",
      "\t [[{{node Placeholder/_0}}]]\n"
     ]
    }
   ],
   "source": [
    "import numpy as np\n",
    "import pandas as pd\n",
    "import tensorflow as tf\n",
    "import autokeras as ak\n",
    "from sklearn.model_selection import train_test_split\n",
    "from sklearn.metrics import accuracy_score, precision_score, recall_score, f1_score\n",
    "\n",
    "# Load your dataset\n",
    "data = pd.read_csv('/home/michael/Documenti/Milinda_Githubproject/Feartures_CIFAKE.csv')\n",
    "\n",
    "# Define the label (target column)\n",
    "label = 'Label'  # Assuming the label column is named 'Label'\n",
    "\n",
    "# Split the dataset into training (80%) and testing (20%) sets\n",
    "train_data, test_data = train_test_split(data, test_size=0.2, random_state=42, stratify=data[label])\n",
    "\n",
    "# Separate features and target\n",
    "x_train = train_data.drop(columns=[label])\n",
    "y_train = train_data[label]\n",
    "x_test = test_data.drop(columns=[label])\n",
    "y_test = test_data[label]\n",
    "\n",
    "# Convert the features to a numpy array for AutoKeras\n",
    "x_train = np.array(x_train)\n",
    "x_test = np.array(x_test)\n",
    "\n",
    "# Initialize the AutoKeras StructuredDataClassifier\n",
    "clf = ak.StructuredDataClassifier(overwrite=True, max_trials=3)  # max_trials sets the number of models to try\n",
    "\n",
    "# Train the classifier\n",
    "clf.fit(x_train, y_train, epochs=10)  # Increase epochs to train longer if needed\n",
    "\n",
    "# Evaluate the classifier\n",
    "loss, accuracy = clf.evaluate(x_test, y_test)\n",
    "print(f\"Test Accuracy: {accuracy:.3f}\")\n",
    "\n",
    "# Predict with the best model\n",
    "y_pred = clf.predict(x_test).flatten()\n",
    "\n",
    "# Calculate Accuracy, Precision, Recall, and F1 Score\n",
    "accuracy = accuracy_score(y_test, y_pred)\n",
    "precision = precision_score(y_test, y_pred)\n",
    "recall = recall_score(y_test, y_pred)\n",
    "f1 = f1_score(y_test, y_pred)\n",
    "\n",
    "# Print the metrics\n",
    "print(f\"Accuracy: {accuracy:.3f}\")\n",
    "print(f\"Precision: {precision:.3f}\")\n",
    "print(f\"Recall: {recall:.3f}\")\n",
    "print(f\"F1 Score: {f1:.3f}\")\n"
   ]
  },
  {
   "cell_type": "code",
   "execution_count": null,
   "id": "96557956-a9c4-4bbb-b597-4b7b81e9ad3b",
   "metadata": {},
   "outputs": [],
   "source": []
  }
 ],
 "metadata": {
  "kernelspec": {
   "display_name": "Python 3 (ipykernel)",
   "language": "python",
   "name": "python3"
  },
  "language_info": {
   "codemirror_mode": {
    "name": "ipython",
    "version": 3
   },
   "file_extension": ".py",
   "mimetype": "text/x-python",
   "name": "python",
   "nbconvert_exporter": "python",
   "pygments_lexer": "ipython3",
   "version": "3.8.19"
  }
 },
 "nbformat": 4,
 "nbformat_minor": 5
}
