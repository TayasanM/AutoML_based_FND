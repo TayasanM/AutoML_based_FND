{
 "cells": [
  {
   "cell_type": "code",
   "execution_count": 1,
   "id": "42e2cc48-352b-4d59-b26b-ed830d11ee34",
   "metadata": {},
   "outputs": [
    {
     "name": "stdout",
     "output_type": "stream",
     "text": [
      "Trial 3 Complete [00h 00m 01s]\n",
      "val_accuracy: 0.6653992533683777\n",
      "\n",
      "Best val_accuracy So Far: 0.9733840227127075\n",
      "Total elapsed time: 00h 00m 03s\n",
      "Epoch 1/10\n"
     ]
    },
    {
     "name": "stderr",
     "output_type": "stream",
     "text": [
      "2024-09-05 15:06:38.207829: I tensorflow/core/common_runtime/executor.cc:1197] [/device:CPU:0] (DEBUG INFO) Executor start aborting (this does not indicate an error and you can ignore this message): INVALID_ARGUMENT: You must feed a value for placeholder tensor 'Placeholder/_29' with dtype double and shape [1447,19]\n",
      "\t [[{{node Placeholder/_29}}]]\n",
      "2024-09-05 15:06:38.208024: I tensorflow/core/common_runtime/executor.cc:1197] [/device:CPU:0] (DEBUG INFO) Executor start aborting (this does not indicate an error and you can ignore this message): INVALID_ARGUMENT: You must feed a value for placeholder tensor 'Placeholder/_5' with dtype int64 and shape [1447]\n",
      "\t [[{{node Placeholder/_5}}]]\n",
      "2024-09-05 15:06:38.265449: I tensorflow/core/common_runtime/executor.cc:1197] [/device:CPU:0] (DEBUG INFO) Executor start aborting (this does not indicate an error and you can ignore this message): INVALID_ARGUMENT: You must feed a value for placeholder tensor 'Placeholder/_63' with dtype int64\n",
      "\t [[{{node Placeholder/_63}}]]\n",
      "2024-09-05 15:06:38.265663: I tensorflow/core/common_runtime/executor.cc:1197] [/device:CPU:0] (DEBUG INFO) Executor start aborting (this does not indicate an error and you can ignore this message): INVALID_ARGUMENT: You must feed a value for placeholder tensor 'Placeholder/_18' with dtype int64 and shape [1447]\n",
      "\t [[{{node Placeholder/_18}}]]\n",
      "2024-09-05 15:06:38.327150: I tensorflow/core/common_runtime/executor.cc:1197] [/device:CPU:0] (DEBUG INFO) Executor start aborting (this does not indicate an error and you can ignore this message): INVALID_ARGUMENT: You must feed a value for placeholder tensor 'Placeholder/_34' with dtype int64 and shape [1447]\n",
      "\t [[{{node Placeholder/_34}}]]\n",
      "2024-09-05 15:06:38.327351: I tensorflow/core/common_runtime/executor.cc:1197] [/device:CPU:0] (DEBUG INFO) Executor start aborting (this does not indicate an error and you can ignore this message): INVALID_ARGUMENT: You must feed a value for placeholder tensor 'Placeholder/_34' with dtype int64 and shape [1447]\n",
      "\t [[{{node Placeholder/_34}}]]\n"
     ]
    },
    {
     "name": "stdout",
     "output_type": "stream",
     "text": [
      "46/46 [==============================] - 0s 619us/step - loss: 0.6562 - accuracy: 0.6406\n",
      "Epoch 2/10\n",
      "46/46 [==============================] - 0s 1ms/step - loss: 0.5240 - accuracy: 0.8272\n",
      "Epoch 3/10\n",
      "46/46 [==============================] - 0s 917us/step - loss: 0.3448 - accuracy: 0.9219\n",
      "Epoch 4/10\n",
      "46/46 [==============================] - 0s 665us/step - loss: 0.2021 - accuracy: 0.9475\n",
      "Epoch 5/10\n",
      "46/46 [==============================] - 0s 421us/step - loss: 0.1337 - accuracy: 0.9648\n",
      "Epoch 6/10\n",
      "46/46 [==============================] - 0s 502us/step - loss: 0.1016 - accuracy: 0.9682\n",
      "Epoch 7/10\n",
      "46/46 [==============================] - 0s 839us/step - loss: 0.0835 - accuracy: 0.9730\n",
      "Epoch 8/10\n",
      "46/46 [==============================] - 0s 348us/step - loss: 0.0715 - accuracy: 0.9786\n",
      "Epoch 9/10\n",
      "46/46 [==============================] - 0s 451us/step - loss: 0.0630 - accuracy: 0.9806\n",
      "Epoch 10/10\n",
      "46/46 [==============================] - 0s 926us/step - loss: 0.0566 - accuracy: 0.9827\n"
     ]
    },
    {
     "name": "stderr",
     "output_type": "stream",
     "text": [
      "WARNING:absl:Found untraced functions such as _update_step_xla while saving (showing 1 of 1). These functions will not be directly callable after loading.\n"
     ]
    },
    {
     "name": "stdout",
     "output_type": "stream",
     "text": [
      "INFO:tensorflow:Assets written to: ./structured_data_classifier/best_model/assets\n"
     ]
    },
    {
     "name": "stderr",
     "output_type": "stream",
     "text": [
      "INFO:tensorflow:Assets written to: ./structured_data_classifier/best_model/assets\n",
      "2024-09-05 15:06:39.564312: I tensorflow/core/common_runtime/executor.cc:1197] [/device:CPU:0] (DEBUG INFO) Executor start aborting (this does not indicate an error and you can ignore this message): INVALID_ARGUMENT: You must feed a value for placeholder tensor 'Placeholder/_13' with dtype double and shape [362,19]\n",
      "\t [[{{node Placeholder/_13}}]]\n",
      "2024-09-05 15:06:39.564424: I tensorflow/core/common_runtime/executor.cc:1197] [/device:CPU:0] (DEBUG INFO) Executor start aborting (this does not indicate an error and you can ignore this message): INVALID_ARGUMENT: You must feed a value for placeholder tensor 'Placeholder/_18' with dtype int64 and shape [362]\n",
      "\t [[{{node Placeholder/_18}}]]\n"
     ]
    },
    {
     "name": "stdout",
     "output_type": "stream",
     "text": [
      "12/12 [==============================] - 0s 608us/step - loss: 0.1375 - accuracy: 0.9669\n",
      "Test Accuracy: 0.967\n",
      "12/12 [==============================] - 0s 597us/step\n",
      "12/12 [==============================] - 0s 397us/step\n",
      "Accuracy: 0.967\n",
      "Precision: 0.983\n",
      "Recall: 0.967\n",
      "F1 Score: 0.975\n"
     ]
    },
    {
     "name": "stderr",
     "output_type": "stream",
     "text": [
      "2024-09-05 15:06:39.782519: I tensorflow/core/common_runtime/executor.cc:1197] [/device:CPU:0] (DEBUG INFO) Executor start aborting (this does not indicate an error and you can ignore this message): INVALID_ARGUMENT: You must feed a value for placeholder tensor 'Placeholder/_0' with dtype double and shape [362,19]\n",
      "\t [[{{node Placeholder/_0}}]]\n",
      "2024-09-05 15:06:39.782596: I tensorflow/core/common_runtime/executor.cc:1197] [/device:CPU:0] (DEBUG INFO) Executor start aborting (this does not indicate an error and you can ignore this message): INVALID_ARGUMENT: You must feed a value for placeholder tensor 'Placeholder/_0' with dtype double and shape [362,19]\n",
      "\t [[{{node Placeholder/_0}}]]\n"
     ]
    }
   ],
   "source": [
    "import numpy as np\n",
    "import pandas as pd\n",
    "import tensorflow as tf\n",
    "import autokeras as ak\n",
    "from sklearn.model_selection import train_test_split\n",
    "from sklearn.metrics import accuracy_score, precision_score, recall_score, f1_score\n",
    "\n",
    "# Load your dataset\n",
    "data = pd.read_csv('/home/michael/Documenti/Milinda_Githubproject/Feartures_FIDAC_1.0.csv')\n",
    "\n",
    "# Define the label (target column)\n",
    "label = 'Label'  # Assuming the label column is named 'Label'\n",
    "\n",
    "# Split the dataset into training (80%) and testing (20%) sets\n",
    "train_data, test_data = train_test_split(data, test_size=0.2, random_state=42, stratify=data[label])\n",
    "\n",
    "# Separate features and target\n",
    "x_train = train_data.drop(columns=[label])\n",
    "y_train = train_data[label]\n",
    "x_test = test_data.drop(columns=[label])\n",
    "y_test = test_data[label]\n",
    "\n",
    "# Convert the features to a numpy array for AutoKeras\n",
    "x_train = np.array(x_train)\n",
    "x_test = np.array(x_test)\n",
    "\n",
    "# Initialize the AutoKeras StructuredDataClassifier\n",
    "clf = ak.StructuredDataClassifier(overwrite=True, max_trials=3)  # max_trials sets the number of models to try\n",
    "\n",
    "# Train the classifier\n",
    "clf.fit(x_train, y_train, epochs=10)  # Increase epochs to train longer if needed\n",
    "\n",
    "# Evaluate the classifier\n",
    "loss, accuracy = clf.evaluate(x_test, y_test)\n",
    "print(f\"Test Accuracy: {accuracy:.3f}\")\n",
    "\n",
    "# Predict with the best model\n",
    "y_pred = clf.predict(x_test).flatten()\n",
    "\n",
    "# Calculate Accuracy, Precision, Recall, and F1 Score\n",
    "accuracy = accuracy_score(y_test, y_pred)\n",
    "precision = precision_score(y_test, y_pred)\n",
    "recall = recall_score(y_test, y_pred)\n",
    "f1 = f1_score(y_test, y_pred)\n",
    "\n",
    "# Print the metrics\n",
    "print(f\"Accuracy: {accuracy:.3f}\")\n",
    "print(f\"Precision: {precision:.3f}\")\n",
    "print(f\"Recall: {recall:.3f}\")\n",
    "print(f\"F1 Score: {f1:.3f}\")\n"
   ]
  },
  {
   "cell_type": "code",
   "execution_count": null,
   "id": "96557956-a9c4-4bbb-b597-4b7b81e9ad3b",
   "metadata": {},
   "outputs": [],
   "source": []
  }
 ],
 "metadata": {
  "kernelspec": {
   "display_name": "Python 3 (ipykernel)",
   "language": "python",
   "name": "python3"
  },
  "language_info": {
   "codemirror_mode": {
    "name": "ipython",
    "version": 3
   },
   "file_extension": ".py",
   "mimetype": "text/x-python",
   "name": "python",
   "nbconvert_exporter": "python",
   "pygments_lexer": "ipython3",
   "version": "3.8.19"
  }
 },
 "nbformat": 4,
 "nbformat_minor": 5
}
