{
 "cells": [
  {
   "cell_type": "code",
   "execution_count": 1,
   "id": "ef284820-cf74-4ce5-9886-519b25d78413",
   "metadata": {},
   "outputs": [
    {
     "name": "stdout",
     "output_type": "stream",
     "text": [
      "Collecting autokeras\n",
      "  Using cached autokeras-2.0.0-py3-none-any.whl.metadata (5.8 kB)\n",
      "Requirement already satisfied: packaging in /home/michael/miniconda3/envs/autoKeras/lib/python3.9/site-packages (from autokeras) (24.1)\n",
      "Collecting keras-tuner>=1.4.0 (from autokeras)\n",
      "  Downloading keras_tuner-1.4.7-py3-none-any.whl.metadata (5.4 kB)\n",
      "Collecting keras-nlp>=0.8.0 (from autokeras)\n",
      "  Downloading keras_nlp-0.14.4-py3-none-any.whl.metadata (6.8 kB)\n",
      "Collecting keras>=3.0.0 (from autokeras)\n",
      "  Downloading keras-3.5.0-py3-none-any.whl.metadata (5.8 kB)\n",
      "Collecting dm-tree (from autokeras)\n",
      "  Downloading dm_tree-0.1.8-cp39-cp39-manylinux_2_17_x86_64.manylinux2014_x86_64.whl.metadata (1.9 kB)\n",
      "Requirement already satisfied: absl-py in /home/michael/miniconda3/envs/autoKeras/lib/python3.9/site-packages (from keras>=3.0.0->autokeras) (2.1.0)\n",
      "Requirement already satisfied: numpy in /home/michael/miniconda3/envs/autoKeras/lib/python3.9/site-packages (from keras>=3.0.0->autokeras) (1.24.3)\n",
      "Collecting rich (from keras>=3.0.0->autokeras)\n",
      "  Using cached rich-13.8.0-py3-none-any.whl.metadata (18 kB)\n",
      "Collecting namex (from keras>=3.0.0->autokeras)\n",
      "  Using cached namex-0.0.8-py3-none-any.whl.metadata (246 bytes)\n",
      "Requirement already satisfied: h5py in /home/michael/miniconda3/envs/autoKeras/lib/python3.9/site-packages (from keras>=3.0.0->autokeras) (3.11.0)\n",
      "Collecting optree (from keras>=3.0.0->autokeras)\n",
      "  Downloading optree-0.12.1-cp39-cp39-manylinux_2_17_x86_64.manylinux2014_x86_64.whl.metadata (47 kB)\n",
      "Collecting ml-dtypes (from keras>=3.0.0->autokeras)\n",
      "  Downloading ml_dtypes-0.4.0-cp39-cp39-manylinux_2_17_x86_64.manylinux2014_x86_64.whl.metadata (20 kB)\n",
      "Collecting regex (from keras-nlp>=0.8.0->autokeras)\n",
      "  Downloading regex-2024.7.24-cp39-cp39-manylinux_2_17_x86_64.manylinux2014_x86_64.whl.metadata (40 kB)\n",
      "Collecting kagglehub (from keras-nlp>=0.8.0->autokeras)\n",
      "  Downloading kagglehub-0.2.9-py3-none-any.whl.metadata (21 kB)\n",
      "Collecting tensorflow-text (from keras-nlp>=0.8.0->autokeras)\n",
      "  Downloading tensorflow_text-2.17.0-cp39-cp39-manylinux_2_17_x86_64.manylinux2014_x86_64.whl.metadata (1.8 kB)\n",
      "Requirement already satisfied: requests in /home/michael/miniconda3/envs/autoKeras/lib/python3.9/site-packages (from keras-tuner>=1.4.0->autokeras) (2.32.3)\n",
      "Collecting kt-legacy (from keras-tuner>=1.4.0->autokeras)\n",
      "  Using cached kt_legacy-1.0.5-py3-none-any.whl.metadata (221 bytes)\n",
      "Collecting tqdm (from kagglehub->keras-nlp>=0.8.0->autokeras)\n",
      "  Using cached tqdm-4.66.5-py3-none-any.whl.metadata (57 kB)\n",
      "Requirement already satisfied: typing-extensions>=4.5.0 in /home/michael/miniconda3/envs/autoKeras/lib/python3.9/site-packages (from optree->keras>=3.0.0->autokeras) (4.11.0)\n",
      "Requirement already satisfied: charset-normalizer<4,>=2 in /home/michael/miniconda3/envs/autoKeras/lib/python3.9/site-packages (from requests->keras-tuner>=1.4.0->autokeras) (3.3.2)\n",
      "Requirement already satisfied: idna<4,>=2.5 in /home/michael/miniconda3/envs/autoKeras/lib/python3.9/site-packages (from requests->keras-tuner>=1.4.0->autokeras) (3.7)\n",
      "Requirement already satisfied: urllib3<3,>=1.21.1 in /home/michael/miniconda3/envs/autoKeras/lib/python3.9/site-packages (from requests->keras-tuner>=1.4.0->autokeras) (2.2.2)\n",
      "Requirement already satisfied: certifi>=2017.4.17 in /home/michael/miniconda3/envs/autoKeras/lib/python3.9/site-packages (from requests->keras-tuner>=1.4.0->autokeras) (2024.7.4)\n",
      "Collecting markdown-it-py>=2.2.0 (from rich->keras>=3.0.0->autokeras)\n",
      "  Using cached markdown_it_py-3.0.0-py3-none-any.whl.metadata (6.9 kB)\n",
      "Requirement already satisfied: pygments<3.0.0,>=2.13.0 in /home/michael/miniconda3/envs/autoKeras/lib/python3.9/site-packages (from rich->keras>=3.0.0->autokeras) (2.15.1)\n",
      "Collecting tensorflow<2.18,>=2.17.0 (from tensorflow-text->keras-nlp>=0.8.0->autokeras)\n",
      "  Downloading tensorflow-2.17.0-cp39-cp39-manylinux_2_17_x86_64.manylinux2014_x86_64.whl.metadata (4.2 kB)\n",
      "Collecting mdurl~=0.1 (from markdown-it-py>=2.2.0->rich->keras>=3.0.0->autokeras)\n",
      "  Using cached mdurl-0.1.2-py3-none-any.whl.metadata (1.6 kB)\n",
      "Requirement already satisfied: astunparse>=1.6.0 in /home/michael/miniconda3/envs/autoKeras/lib/python3.9/site-packages (from tensorflow<2.18,>=2.17.0->tensorflow-text->keras-nlp>=0.8.0->autokeras) (1.6.3)\n",
      "Requirement already satisfied: flatbuffers>=24.3.25 in /home/michael/miniconda3/envs/autoKeras/lib/python3.9/site-packages (from tensorflow<2.18,>=2.17.0->tensorflow-text->keras-nlp>=0.8.0->autokeras) (24.3.25)\n",
      "Requirement already satisfied: gast!=0.5.0,!=0.5.1,!=0.5.2,>=0.2.1 in /home/michael/miniconda3/envs/autoKeras/lib/python3.9/site-packages (from tensorflow<2.18,>=2.17.0->tensorflow-text->keras-nlp>=0.8.0->autokeras) (0.4.0)\n",
      "Requirement already satisfied: google-pasta>=0.1.1 in /home/michael/miniconda3/envs/autoKeras/lib/python3.9/site-packages (from tensorflow<2.18,>=2.17.0->tensorflow-text->keras-nlp>=0.8.0->autokeras) (0.2.0)\n",
      "Requirement already satisfied: libclang>=13.0.0 in /home/michael/miniconda3/envs/autoKeras/lib/python3.9/site-packages (from tensorflow<2.18,>=2.17.0->tensorflow-text->keras-nlp>=0.8.0->autokeras) (18.1.1)\n",
      "Requirement already satisfied: opt-einsum>=2.3.2 in /home/michael/miniconda3/envs/autoKeras/lib/python3.9/site-packages (from tensorflow<2.18,>=2.17.0->tensorflow-text->keras-nlp>=0.8.0->autokeras) (3.3.0)\n",
      "Requirement already satisfied: protobuf!=4.21.0,!=4.21.1,!=4.21.2,!=4.21.3,!=4.21.4,!=4.21.5,<5.0.0dev,>=3.20.3 in /home/michael/miniconda3/envs/autoKeras/lib/python3.9/site-packages (from tensorflow<2.18,>=2.17.0->tensorflow-text->keras-nlp>=0.8.0->autokeras) (4.25.4)\n",
      "Requirement already satisfied: setuptools in /home/michael/miniconda3/envs/autoKeras/lib/python3.9/site-packages (from tensorflow<2.18,>=2.17.0->tensorflow-text->keras-nlp>=0.8.0->autokeras) (72.1.0)\n",
      "Requirement already satisfied: six>=1.12.0 in /home/michael/miniconda3/envs/autoKeras/lib/python3.9/site-packages (from tensorflow<2.18,>=2.17.0->tensorflow-text->keras-nlp>=0.8.0->autokeras) (1.16.0)\n",
      "Requirement already satisfied: termcolor>=1.1.0 in /home/michael/miniconda3/envs/autoKeras/lib/python3.9/site-packages (from tensorflow<2.18,>=2.17.0->tensorflow-text->keras-nlp>=0.8.0->autokeras) (2.4.0)\n",
      "Requirement already satisfied: wrapt>=1.11.0 in /home/michael/miniconda3/envs/autoKeras/lib/python3.9/site-packages (from tensorflow<2.18,>=2.17.0->tensorflow-text->keras-nlp>=0.8.0->autokeras) (1.16.0)\n",
      "Requirement already satisfied: grpcio<2.0,>=1.24.3 in /home/michael/miniconda3/envs/autoKeras/lib/python3.9/site-packages (from tensorflow<2.18,>=2.17.0->tensorflow-text->keras-nlp>=0.8.0->autokeras) (1.66.1)\n",
      "Collecting tensorboard<2.18,>=2.17 (from tensorflow<2.18,>=2.17.0->tensorflow-text->keras-nlp>=0.8.0->autokeras)\n",
      "  Downloading tensorboard-2.17.1-py3-none-any.whl.metadata (1.6 kB)\n",
      "Requirement already satisfied: tensorflow-io-gcs-filesystem>=0.23.1 in /home/michael/miniconda3/envs/autoKeras/lib/python3.9/site-packages (from tensorflow<2.18,>=2.17.0->tensorflow-text->keras-nlp>=0.8.0->autokeras) (0.37.1)\n",
      "Requirement already satisfied: wheel<1.0,>=0.23.0 in /home/michael/miniconda3/envs/autoKeras/lib/python3.9/site-packages (from astunparse>=1.6.0->tensorflow<2.18,>=2.17.0->tensorflow-text->keras-nlp>=0.8.0->autokeras) (0.43.0)\n",
      "Requirement already satisfied: markdown>=2.6.8 in /home/michael/miniconda3/envs/autoKeras/lib/python3.9/site-packages (from tensorboard<2.18,>=2.17->tensorflow<2.18,>=2.17.0->tensorflow-text->keras-nlp>=0.8.0->autokeras) (3.7)\n",
      "Requirement already satisfied: tensorboard-data-server<0.8.0,>=0.7.0 in /home/michael/miniconda3/envs/autoKeras/lib/python3.9/site-packages (from tensorboard<2.18,>=2.17->tensorflow<2.18,>=2.17.0->tensorflow-text->keras-nlp>=0.8.0->autokeras) (0.7.2)\n",
      "Requirement already satisfied: werkzeug>=1.0.1 in /home/michael/miniconda3/envs/autoKeras/lib/python3.9/site-packages (from tensorboard<2.18,>=2.17->tensorflow<2.18,>=2.17.0->tensorflow-text->keras-nlp>=0.8.0->autokeras) (3.0.4)\n",
      "Requirement already satisfied: importlib-metadata>=4.4 in /home/michael/miniconda3/envs/autoKeras/lib/python3.9/site-packages (from markdown>=2.6.8->tensorboard<2.18,>=2.17->tensorflow<2.18,>=2.17.0->tensorflow-text->keras-nlp>=0.8.0->autokeras) (7.0.1)\n",
      "Requirement already satisfied: MarkupSafe>=2.1.1 in /home/michael/miniconda3/envs/autoKeras/lib/python3.9/site-packages (from werkzeug>=1.0.1->tensorboard<2.18,>=2.17->tensorflow<2.18,>=2.17.0->tensorflow-text->keras-nlp>=0.8.0->autokeras) (2.1.3)\n",
      "Requirement already satisfied: zipp>=0.5 in /home/michael/miniconda3/envs/autoKeras/lib/python3.9/site-packages (from importlib-metadata>=4.4->markdown>=2.6.8->tensorboard<2.18,>=2.17->tensorflow<2.18,>=2.17.0->tensorflow-text->keras-nlp>=0.8.0->autokeras) (3.17.0)\n",
      "Downloading autokeras-2.0.0-py3-none-any.whl (122 kB)\n",
      "Downloading keras-3.5.0-py3-none-any.whl (1.1 MB)\n",
      "\u001b[2K   \u001b[90m━━━━━━━━━━━━━━━━━━━━━━━━━━━━━━━━━━━━━━━━\u001b[0m \u001b[32m1.1/1.1 MB\u001b[0m \u001b[31m25.7 MB/s\u001b[0m eta \u001b[36m0:00:00\u001b[0m\n",
      "\u001b[?25hDownloading keras_nlp-0.14.4-py3-none-any.whl (572 kB)\n",
      "\u001b[2K   \u001b[90m━━━━━━━━━━━━━━━━━━━━━━━━━━━━━━━━━━━━━━━━\u001b[0m \u001b[32m572.2/572.2 kB\u001b[0m \u001b[31m23.6 MB/s\u001b[0m eta \u001b[36m0:00:00\u001b[0m\n",
      "\u001b[?25hDownloading keras_tuner-1.4.7-py3-none-any.whl (129 kB)\n",
      "Downloading dm_tree-0.1.8-cp39-cp39-manylinux_2_17_x86_64.manylinux2014_x86_64.whl (153 kB)\n",
      "Downloading kagglehub-0.2.9-py3-none-any.whl (39 kB)\n",
      "Using cached kt_legacy-1.0.5-py3-none-any.whl (9.6 kB)\n",
      "Downloading ml_dtypes-0.4.0-cp39-cp39-manylinux_2_17_x86_64.manylinux2014_x86_64.whl (2.2 MB)\n",
      "\u001b[2K   \u001b[90m━━━━━━━━━━━━━━━━━━━━━━━━━━━━━━━━━━━━━━━━\u001b[0m \u001b[32m2.2/2.2 MB\u001b[0m \u001b[31m38.9 MB/s\u001b[0m eta \u001b[36m0:00:00\u001b[0m\n",
      "\u001b[?25hUsing cached namex-0.0.8-py3-none-any.whl (5.8 kB)\n",
      "Downloading optree-0.12.1-cp39-cp39-manylinux_2_17_x86_64.manylinux2014_x86_64.whl (347 kB)\n",
      "Downloading regex-2024.7.24-cp39-cp39-manylinux_2_17_x86_64.manylinux2014_x86_64.whl (775 kB)\n",
      "\u001b[2K   \u001b[90m━━━━━━━━━━━━━━━━━━━━━━━━━━━━━━━━━━━━━━━━\u001b[0m \u001b[32m775.9/775.9 kB\u001b[0m \u001b[31m36.3 MB/s\u001b[0m eta \u001b[36m0:00:00\u001b[0m\n",
      "\u001b[?25hUsing cached rich-13.8.0-py3-none-any.whl (241 kB)\n",
      "Downloading tensorflow_text-2.17.0-cp39-cp39-manylinux_2_17_x86_64.manylinux2014_x86_64.whl (5.2 MB)\n",
      "\u001b[2K   \u001b[90m━━━━━━━━━━━━━━━━━━━━━━━━━━━━━━━━━━━━━━━━\u001b[0m \u001b[32m5.2/5.2 MB\u001b[0m \u001b[31m9.8 MB/s\u001b[0m eta \u001b[36m0:00:00\u001b[0mta \u001b[36m0:00:01\u001b[0m\n",
      "\u001b[?25hUsing cached markdown_it_py-3.0.0-py3-none-any.whl (87 kB)\n",
      "Downloading tensorflow-2.17.0-cp39-cp39-manylinux_2_17_x86_64.manylinux2014_x86_64.whl (601.3 MB)\n",
      "\u001b[2K   \u001b[90m━━━━━━━━━━━━━━━━━━━━━━━━━━━━━━━━━━━━━━━━\u001b[0m \u001b[32m601.3/601.3 MB\u001b[0m \u001b[31m93.1 MB/s\u001b[0m eta \u001b[36m0:00:00\u001b[0m00:01\u001b[0m00:01\u001b[0m\n",
      "\u001b[?25hUsing cached tqdm-4.66.5-py3-none-any.whl (78 kB)\n",
      "Using cached mdurl-0.1.2-py3-none-any.whl (10.0 kB)\n",
      "Downloading tensorboard-2.17.1-py3-none-any.whl (5.5 MB)\n",
      "\u001b[2K   \u001b[90m━━━━━━━━━━━━━━━━━━━━━━━━━━━━━━━━━━━━━━━━\u001b[0m \u001b[32m5.5/5.5 MB\u001b[0m \u001b[31m89.8 MB/s\u001b[0m eta \u001b[36m0:00:00\u001b[0m\n",
      "\u001b[?25hInstalling collected packages: namex, kt-legacy, dm-tree, tqdm, regex, optree, ml-dtypes, mdurl, markdown-it-py, kagglehub, tensorboard, rich, keras, tensorflow, keras-tuner, tensorflow-text, keras-nlp, autokeras\n",
      "  Attempting uninstall: tensorboard\n",
      "    Found existing installation: tensorboard 2.13.0\n",
      "    Uninstalling tensorboard-2.13.0:\n",
      "      Successfully uninstalled tensorboard-2.13.0\n",
      "  Attempting uninstall: keras\n",
      "    Found existing installation: keras 2.13.1\n",
      "    Uninstalling keras-2.13.1:\n",
      "      Successfully uninstalled keras-2.13.1\n",
      "  Attempting uninstall: tensorflow\n",
      "    Found existing installation: tensorflow 2.13.1\n",
      "    Uninstalling tensorflow-2.13.1:\n",
      "      Successfully uninstalled tensorflow-2.13.1\n",
      "Successfully installed autokeras-2.0.0 dm-tree-0.1.8 kagglehub-0.2.9 keras-3.5.0 keras-nlp-0.14.4 keras-tuner-1.4.7 kt-legacy-1.0.5 markdown-it-py-3.0.0 mdurl-0.1.2 ml-dtypes-0.4.0 namex-0.0.8 optree-0.12.1 regex-2024.7.24 rich-13.8.0 tensorboard-2.17.1 tensorflow-2.17.0 tensorflow-text-2.17.0 tqdm-4.66.5\n"
     ]
    }
   ],
   "source": [
    "!pip install autokeras"
   ]
  },
  {
   "cell_type": "code",
   "execution_count": 3,
   "id": "bf5c8393-fd35-4eed-941c-05651b4d308f",
   "metadata": {},
   "outputs": [],
   "source": [
    "import numpy as np\n",
    "import tensorflow as tf\n",
    "from keras.datasets import mnist\n",
    "\n",
    "import autokeras as ak"
   ]
  },
  {
   "cell_type": "code",
   "execution_count": 4,
   "id": "e0164708-1497-419e-97b1-662f92c5b7ad",
   "metadata": {},
   "outputs": [
    {
     "name": "stdout",
     "output_type": "stream",
     "text": [
      "Downloading data from https://storage.googleapis.com/tensorflow/tf-keras-datasets/mnist.npz\n",
      "\u001b[1m11490434/11490434\u001b[0m \u001b[32m━━━━━━━━━━━━━━━━━━━━\u001b[0m\u001b[37m\u001b[0m \u001b[1m1s\u001b[0m 0us/step\n",
      "(100, 28, 28)\n",
      "(100,)\n",
      "[5 0 4]\n"
     ]
    }
   ],
   "source": [
    "(x_train, y_train), (x_test, y_test) = mnist.load_data()\n",
    "x_train = x_train[:100]\n",
    "y_train = y_train[:100]\n",
    "x_test = x_test[:100]\n",
    "y_test = y_test[:100]\n",
    "print(x_train.shape)  # (60000, 28, 28)\n",
    "print(y_train.shape)  # (60000,)\n",
    "print(y_train[:3])  # array([7, 2, 1], dtype=uint8)"
   ]
  },
  {
   "cell_type": "code",
   "execution_count": 5,
   "id": "ff7685c4-1f44-4c13-811c-44208a115056",
   "metadata": {},
   "outputs": [
    {
     "name": "stdout",
     "output_type": "stream",
     "text": [
      "Trial 1 Complete [00h 00m 01s]\n",
      "val_loss: 2.0193915367126465\n",
      "\n",
      "Best val_loss So Far: 2.0193915367126465\n",
      "Total elapsed time: 00h 00m 01s\n",
      "\u001b[1m4/4\u001b[0m \u001b[32m━━━━━━━━━━━━━━━━━━━━\u001b[0m\u001b[37m\u001b[0m \u001b[1m0s\u001b[0m 5ms/step - accuracy: 0.1237 - loss: 2.2603  \n",
      "\u001b[1m4/4\u001b[0m \u001b[32m━━━━━━━━━━━━━━━━━━━━\u001b[0m\u001b[37m\u001b[0m \u001b[1m0s\u001b[0m 8ms/step \n",
      "\u001b[1m4/4\u001b[0m \u001b[32m━━━━━━━━━━━━━━━━━━━━\u001b[0m\u001b[37m\u001b[0m \u001b[1m0s\u001b[0m 2ms/step\n"
     ]
    },
    {
     "name": "stderr",
     "output_type": "stream",
     "text": [
      "/home/michael/miniconda3/envs/autoKeras/lib/python3.9/site-packages/keras/src/saving/saving_lib.py:713: UserWarning: Skipping variable loading for optimizer 'adam', because it has 2 variables whereas the saved optimizer has 14 variables. \n",
      "  saveable.load_own_variables(weights_store.get(inner_path))\n"
     ]
    },
    {
     "name": "stdout",
     "output_type": "stream",
     "text": [
      "[['9']\n",
      " ['0']\n",
      " ['1']\n",
      " ['0']\n",
      " ['4']\n",
      " ['1']\n",
      " ['4']\n",
      " ['4']\n",
      " ['0']\n",
      " ['9']\n",
      " ['0']\n",
      " ['0']\n",
      " ['9']\n",
      " ['0']\n",
      " ['1']\n",
      " ['0']\n",
      " ['4']\n",
      " ['3']\n",
      " ['3']\n",
      " ['4']\n",
      " ['9']\n",
      " ['6']\n",
      " ['0']\n",
      " ['0']\n",
      " ['4']\n",
      " ['0']\n",
      " ['3']\n",
      " ['4']\n",
      " ['0']\n",
      " ['1']\n",
      " ['3']\n",
      " ['3']\n",
      " ['3']\n",
      " ['0']\n",
      " ['3']\n",
      " ['0']\n",
      " ['3']\n",
      " ['1']\n",
      " ['3']\n",
      " ['1']\n",
      " ['1']\n",
      " ['3']\n",
      " ['4']\n",
      " ['3']\n",
      " ['3']\n",
      " ['3']\n",
      " ['3']\n",
      " ['0']\n",
      " ['4']\n",
      " ['4']\n",
      " ['6']\n",
      " ['3']\n",
      " ['0']\n",
      " ['3']\n",
      " ['0']\n",
      " ['0']\n",
      " ['4']\n",
      " ['1']\n",
      " ['9']\n",
      " ['9']\n",
      " ['3']\n",
      " ['0']\n",
      " ['3']\n",
      " ['3']\n",
      " ['3']\n",
      " ['3']\n",
      " ['0']\n",
      " ['4']\n",
      " ['3']\n",
      " ['0']\n",
      " ['3']\n",
      " ['0']\n",
      " ['0']\n",
      " ['9']\n",
      " ['1']\n",
      " ['4']\n",
      " ['3']\n",
      " ['9']\n",
      " ['9']\n",
      " ['9']\n",
      " ['4']\n",
      " ['6']\n",
      " ['0']\n",
      " ['4']\n",
      " ['4']\n",
      " ['4']\n",
      " ['9']\n",
      " ['3']\n",
      " ['0']\n",
      " ['1']\n",
      " ['3']\n",
      " ['6']\n",
      " ['9']\n",
      " ['3']\n",
      " ['1']\n",
      " ['0']\n",
      " ['3']\n",
      " ['3']\n",
      " ['0']\n",
      " ['4']]\n",
      "\u001b[1m4/4\u001b[0m \u001b[32m━━━━━━━━━━━━━━━━━━━━\u001b[0m\u001b[37m\u001b[0m \u001b[1m0s\u001b[0m 2ms/step - accuracy: 0.5507 - loss: 2.0037  \n",
      "[2.016324996948242, 0.5199999809265137]\n"
     ]
    }
   ],
   "source": [
    "# Initialize the image classifier.\n",
    "clf = ak.ImageClassifier(overwrite=True, max_trials=1)\n",
    "# Feed the image classifier with training data.\n",
    "clf.fit(x_train, y_train, epochs=1)\n",
    "\n",
    "\n",
    "# Predict with the best model.\n",
    "predicted_y = clf.predict(x_test)\n",
    "print(predicted_y)\n",
    "\n",
    "\n",
    "# Evaluate the best model with testing data.\n",
    "print(clf.evaluate(x_test, y_test))"
   ]
  },
  {
   "cell_type": "code",
   "execution_count": 1,
   "id": "e49339d5-8189-4628-bdae-2010749967d3",
   "metadata": {},
   "outputs": [
    {
     "name": "stdout",
     "output_type": "stream",
     "text": [
      "Trial 3 Complete [00h 35m 16s]\n",
      "val_loss: 0.6302657127380371\n",
      "\n",
      "Best val_loss So Far: 0.6159526109695435\n",
      "Total elapsed time: 00h 47m 45s\n"
     ]
    },
    {
     "name": "stderr",
     "output_type": "stream",
     "text": [
      "2024-09-04 15:04:35.205114: I tensorflow/core/common_runtime/executor.cc:1197] [/device:CPU:0] (DEBUG INFO) Executor start aborting (this does not indicate an error and you can ignore this message): INVALID_ARGUMENT: You must feed a value for placeholder tensor 'Placeholder/_29' with dtype float and shape [1447,256,256,3]\n",
      "\t [[{{node Placeholder/_29}}]]\n",
      "2024-09-04 15:04:35.205386: I tensorflow/core/common_runtime/executor.cc:1197] [/device:CPU:0] (DEBUG INFO) Executor start aborting (this does not indicate an error and you can ignore this message): INVALID_ARGUMENT: You must feed a value for placeholder tensor 'Placeholder/_29' with dtype float and shape [1447,256,256,3]\n",
      "\t [[{{node Placeholder/_29}}]]\n"
     ]
    },
    {
     "name": "stdout",
     "output_type": "stream",
     "text": [
      "Epoch 1/10\n"
     ]
    },
    {
     "name": "stderr",
     "output_type": "stream",
     "text": [
      "2024-09-04 15:04:36.588352: I tensorflow/core/common_runtime/executor.cc:1197] [/device:CPU:0] (DEBUG INFO) Executor start aborting (this does not indicate an error and you can ignore this message): INVALID_ARGUMENT: You must feed a value for placeholder tensor 'Placeholder/_29' with dtype float and shape [1447,256,256,3]\n",
      "\t [[{{node Placeholder/_29}}]]\n",
      "2024-09-04 15:04:36.588582: I tensorflow/core/common_runtime/executor.cc:1197] [/device:CPU:0] (DEBUG INFO) Executor start aborting (this does not indicate an error and you can ignore this message): INVALID_ARGUMENT: You must feed a value for placeholder tensor 'Placeholder/_0' with dtype float and shape [1447,256,256,3]\n",
      "\t [[{{node Placeholder/_0}}]]\n"
     ]
    },
    {
     "name": "stdout",
     "output_type": "stream",
     "text": [
      "46/46 [==============================] - 67s 1s/step - loss: 1.0734 - accuracy: 0.6130\n",
      "Epoch 2/10\n",
      "46/46 [==============================] - 63s 1s/step - loss: 0.6448 - accuracy: 0.6683\n",
      "Epoch 3/10\n",
      "46/46 [==============================] - 63s 1s/step - loss: 0.6752 - accuracy: 0.6579\n",
      "Epoch 4/10\n",
      "46/46 [==============================] - 63s 1s/step - loss: 0.6582 - accuracy: 0.6621\n",
      "Epoch 5/10\n",
      "46/46 [==============================] - 63s 1s/step - loss: 0.6433 - accuracy: 0.6607\n",
      "Epoch 6/10\n",
      "46/46 [==============================] - 63s 1s/step - loss: 0.6565 - accuracy: 0.6593\n",
      "Epoch 7/10\n",
      "46/46 [==============================] - 63s 1s/step - loss: 0.6555 - accuracy: 0.6641\n",
      "Epoch 8/10\n",
      "46/46 [==============================] - 63s 1s/step - loss: 0.6564 - accuracy: 0.6648\n",
      "Epoch 9/10\n",
      "46/46 [==============================] - 63s 1s/step - loss: 0.6441 - accuracy: 0.6600\n",
      "Epoch 10/10\n",
      "46/46 [==============================] - 63s 1s/step - loss: 0.6374 - accuracy: 0.6738\n"
     ]
    },
    {
     "name": "stderr",
     "output_type": "stream",
     "text": [
      "2024-09-04 15:15:11.593642: I tensorflow/core/common_runtime/executor.cc:1197] [/device:CPU:0] (DEBUG INFO) Executor start aborting (this does not indicate an error and you can ignore this message): INVALID_ARGUMENT: You must feed a value for placeholder tensor 'input_1' with dtype float and shape [?,256,256,3]\n",
      "\t [[{{node input_1}}]]\n",
      "2024-09-04 15:15:11.692678: I tensorflow/core/common_runtime/executor.cc:1197] [/device:CPU:0] (DEBUG INFO) Executor start aborting (this does not indicate an error and you can ignore this message): INVALID_ARGUMENT: You must feed a value for placeholder tensor 'inputs' with dtype float and shape [?,256,256,3]\n",
      "\t [[{{node inputs}}]]\n",
      "2024-09-04 15:15:11.696605: I tensorflow/core/common_runtime/executor.cc:1197] [/device:CPU:0] (DEBUG INFO) Executor start aborting (this does not indicate an error and you can ignore this message): INVALID_ARGUMENT: You must feed a value for placeholder tensor 'inputs' with dtype float and shape [?,256,256,3]\n",
      "\t [[{{node inputs}}]]\n",
      "2024-09-04 15:15:11.739942: I tensorflow/core/common_runtime/executor.cc:1197] [/device:CPU:0] (DEBUG INFO) Executor start aborting (this does not indicate an error and you can ignore this message): INVALID_ARGUMENT: You must feed a value for placeholder tensor 'inputs' with dtype float and shape [?,256,256,3]\n",
      "\t [[{{node inputs}}]]\n",
      "2024-09-04 15:15:12.181220: I tensorflow/core/common_runtime/executor.cc:1197] [/device:CPU:0] (DEBUG INFO) Executor start aborting (this does not indicate an error and you can ignore this message): INVALID_ARGUMENT: You must feed a value for placeholder tensor 'inputs' with dtype float and shape [?,256,256,3]\n",
      "\t [[{{node inputs}}]]\n",
      "2024-09-04 15:15:12.573521: I tensorflow/core/common_runtime/executor.cc:1197] [/device:CPU:0] (DEBUG INFO) Executor start aborting (this does not indicate an error and you can ignore this message): INVALID_ARGUMENT: You must feed a value for placeholder tensor 'inputs' with dtype float and shape [?,256,256,3]\n",
      "\t [[{{node inputs}}]]\n",
      "2024-09-04 15:15:12.596061: I tensorflow/core/common_runtime/executor.cc:1197] [/device:CPU:0] (DEBUG INFO) Executor start aborting (this does not indicate an error and you can ignore this message): INVALID_ARGUMENT: You must feed a value for placeholder tensor 'inputs' with dtype float and shape [?,256,256,3]\n",
      "\t [[{{node inputs}}]]\n",
      "WARNING:absl:Found untraced functions such as _update_step_xla, _jit_compiled_convolution_op, _jit_compiled_convolution_op, _jit_compiled_convolution_op, _jit_compiled_convolution_op while saving (showing 5 of 54). These functions will not be directly callable after loading.\n"
     ]
    },
    {
     "name": "stdout",
     "output_type": "stream",
     "text": [
      "INFO:tensorflow:Assets written to: ./image_classifier/best_model/assets\n"
     ]
    },
    {
     "name": "stderr",
     "output_type": "stream",
     "text": [
      "INFO:tensorflow:Assets written to: ./image_classifier/best_model/assets\n",
      "2024-09-04 15:15:19.973153: I tensorflow/core/common_runtime/executor.cc:1197] [/device:CPU:0] (DEBUG INFO) Executor start aborting (this does not indicate an error and you can ignore this message): INVALID_ARGUMENT: You must feed a value for placeholder tensor 'Placeholder/_13' with dtype float and shape [362,256,256,3]\n",
      "\t [[{{node Placeholder/_13}}]]\n",
      "2024-09-04 15:15:19.973283: I tensorflow/core/common_runtime/executor.cc:1197] [/device:CPU:0] (DEBUG INFO) Executor start aborting (this does not indicate an error and you can ignore this message): INVALID_ARGUMENT: You must feed a value for placeholder tensor 'Placeholder/_18' with dtype int64 and shape [362]\n",
      "\t [[{{node Placeholder/_18}}]]\n"
     ]
    },
    {
     "name": "stdout",
     "output_type": "stream",
     "text": [
      "12/12 [==============================] - 7s 521ms/step - loss: 0.7170 - accuracy: 0.6160\n",
      "Test Accuracy: 0.616\n"
     ]
    },
    {
     "name": "stderr",
     "output_type": "stream",
     "text": [
      "2024-09-04 15:15:29.782595: I tensorflow/core/common_runtime/executor.cc:1197] [/device:CPU:0] (DEBUG INFO) Executor start aborting (this does not indicate an error and you can ignore this message): INVALID_ARGUMENT: You must feed a value for placeholder tensor 'Placeholder/_0' with dtype float and shape [362,256,256,3]\n",
      "\t [[{{node Placeholder/_0}}]]\n",
      "2024-09-04 15:15:29.782697: I tensorflow/core/common_runtime/executor.cc:1197] [/device:CPU:0] (DEBUG INFO) Executor start aborting (this does not indicate an error and you can ignore this message): INVALID_ARGUMENT: You must feed a value for placeholder tensor 'Placeholder/_0' with dtype float and shape [362,256,256,3]\n",
      "\t [[{{node Placeholder/_0}}]]\n"
     ]
    },
    {
     "name": "stdout",
     "output_type": "stream",
     "text": [
      "12/12 [==============================] - 7s 519ms/step\n",
      "12/12 [==============================] - 6s 522ms/step\n",
      "Predicted labels: [1. 1. 1. 0. 1.]\n",
      "True labels: [1 0 1 1 1]\n",
      "Precision: 0.0000\n",
      "Recall: 0.0000\n",
      "F1 Score: 0.0000\n"
     ]
    },
    {
     "name": "stderr",
     "output_type": "stream",
     "text": [
      "/home/michael/miniconda3/envs/autoKeras/lib/python3.9/site-packages/sklearn/metrics/_classification.py:1531: UndefinedMetricWarning: Precision is ill-defined and being set to 0.0 due to no predicted samples. Use `zero_division` parameter to control this behavior.\n",
      "  _warn_prf(average, modifier, f\"{metric.capitalize()} is\", len(result))\n"
     ]
    }
   ],
   "source": [
    "import os\n",
    "import numpy as np\n",
    "import pandas as pd\n",
    "import tensorflow as tf\n",
    "import autokeras as ak\n",
    "from sklearn.model_selection import train_test_split\n",
    "from tensorflow.keras.preprocessing import image\n",
    "from IPython.display import Image as IPImage, display  # for displaying images in Jupyter\n",
    "\n",
    "# Check if TensorFlow detects a GPU\n",
    "print(\"Num GPUs Available: \", len(tf.config.list_physical_devices('GPU')))\n",
    "\n",
    "\n",
    "# File paths for the Fake and Real image directories\n",
    "fake_dir = '/home/michael/Documenti/Milinda_Githubproject/FIDAC_1.0/Tampered_Images_resize/'\n",
    "real_dir = '/home/michael/Documenti/Milinda_Githubproject/FIDAC_1.0/Authentic Image_Rescieved/'\n",
    "\n",
    "# Prepare the data\n",
    "def prepare_data(fake_dir, real_dir, img_size=(256, 256)):\n",
    "    images = []\n",
    "    image_paths = []\n",
    "    labels = []\n",
    "    \n",
    "    # Fake images\n",
    "    for img_name in os.listdir(fake_dir):\n",
    "        if img_name.endswith(('.png', '.jpg', '.jpeg', '.gif')):\n",
    "            img_path = os.path.join(fake_dir, img_name)\n",
    "            img = image.load_img(img_path, target_size=img_size)\n",
    "            img = image.img_to_array(img)\n",
    "            img /= 255.0  # Normalize the images\n",
    "            images.append(img)\n",
    "            labels.append(0)  # Fake = 0\n",
    "            image_paths.append(img_path)\n",
    "\n",
    "    # Real images\n",
    "    for img_name in os.listdir(real_dir):\n",
    "        if img_name.endswith(('.png', '.jpg', '.jpeg', '.gif')):\n",
    "            img_path = os.path.join(real_dir, img_name)\n",
    "            img = image.load_img(img_path, target_size=img_size)\n",
    "            img = image.img_to_array(img)\n",
    "            img /= 255.0  # Normalize the images\n",
    "            images.append(img)\n",
    "            labels.append(1)  # Real = 1\n",
    "            image_paths.append(img_path)\n",
    "\n",
    "    # Convert to numpy arrays\n",
    "    images = np.array(images)\n",
    "    labels = np.array(labels)\n",
    "    \n",
    "    return images, labels, image_paths\n",
    "\n",
    "# Load and prepare the data\n",
    "x_data, y_data, image_paths = prepare_data(fake_dir, real_dir)\n",
    "\n",
    "# Split the data into training and testing sets (80/20 split)\n",
    "x_train, x_test, y_train, y_test, image_paths_train, image_paths_test = train_test_split(x_data, y_data, image_paths, test_size=0.2, random_state=42)\n",
    "\n",
    "# Initialize the AutoKeras ImageClassifier\n",
    "clf = ak.ImageClassifier(overwrite=True, max_trials=3)  # max_trials sets the number of models to try\n",
    "\n",
    "# Train the classifier\n",
    "clf.fit(x_train, y_train, epochs=10)  # Increase epochs to train longer if needed\n",
    "\n",
    "\n",
    "\n",
    "\n",
    "\n",
    "\n",
    "\n"
   ]
  },
  {
   "cell_type": "code",
   "execution_count": 6,
   "id": "cad05dc5-e15d-4fe2-a8f3-0f3dd500debe",
   "metadata": {},
   "outputs": [
    {
     "name": "stderr",
     "output_type": "stream",
     "text": [
      "2024-09-04 15:23:45.197970: I tensorflow/core/common_runtime/executor.cc:1197] [/device:CPU:0] (DEBUG INFO) Executor start aborting (this does not indicate an error and you can ignore this message): INVALID_ARGUMENT: You must feed a value for placeholder tensor 'Placeholder/_18' with dtype int64 and shape [362]\n",
      "\t [[{{node Placeholder/_18}}]]\n",
      "2024-09-04 15:23:45.198101: I tensorflow/core/common_runtime/executor.cc:1197] [/device:CPU:0] (DEBUG INFO) Executor start aborting (this does not indicate an error and you can ignore this message): INVALID_ARGUMENT: You must feed a value for placeholder tensor 'Placeholder/_18' with dtype int64 and shape [362]\n",
      "\t [[{{node Placeholder/_18}}]]\n"
     ]
    },
    {
     "name": "stdout",
     "output_type": "stream",
     "text": [
      "12/12 [==============================] - 7s 521ms/step - loss: 0.7170 - accuracy: 0.6160\n",
      "Test Accuracy: 0.616\n"
     ]
    },
    {
     "name": "stderr",
     "output_type": "stream",
     "text": [
      "2024-09-04 15:23:54.947866: I tensorflow/core/common_runtime/executor.cc:1197] [/device:CPU:0] (DEBUG INFO) Executor start aborting (this does not indicate an error and you can ignore this message): INVALID_ARGUMENT: You must feed a value for placeholder tensor 'Placeholder/_0' with dtype float and shape [362,256,256,3]\n",
      "\t [[{{node Placeholder/_0}}]]\n",
      "2024-09-04 15:23:54.947960: I tensorflow/core/common_runtime/executor.cc:1197] [/device:CPU:0] (DEBUG INFO) Executor start aborting (this does not indicate an error and you can ignore this message): INVALID_ARGUMENT: You must feed a value for placeholder tensor 'Placeholder/_0' with dtype float and shape [362,256,256,3]\n",
      "\t [[{{node Placeholder/_0}}]]\n"
     ]
    },
    {
     "name": "stdout",
     "output_type": "stream",
     "text": [
      "12/12 [==============================] - 7s 521ms/step\n",
      "12/12 [==============================] - 6s 519ms/step\n",
      "Predicted labels: [1. 1. 1. 0. 1.]\n",
      "True labels: [1 0 1 1 1]\n"
     ]
    }
   ],
   "source": [
    "# Evaluate the model on the test data\n",
    "test_loss, test_acc = clf.evaluate(x_test, y_test)\n",
    "print(f\"Test Accuracy: {test_acc:.3f}\")\n",
    "\n",
    "# Predict with the best model\n",
    "y_pred = clf.predict(x_test)\n",
    "print(f\"Predicted labels: {y_pred[:5].flatten()}\")\n",
    "print(f\"True labels: {y_test[:5]}\")"
   ]
  },
  {
   "cell_type": "code",
   "execution_count": 10,
   "id": "7b7aaf9e-716e-4b53-84a9-1c0939a7292e",
   "metadata": {},
   "outputs": [
    {
     "name": "stdout",
     "output_type": "stream",
     "text": [
      "Accuracy: 0.6160\n",
      "Precision: 0.6462\n",
      "Recall: 0.8974\n",
      "F1 Score: 0.7513\n"
     ]
    }
   ],
   "source": [
    "from sklearn.metrics import accuracy_score, precision_score, recall_score, f1_score\n",
    "accuracy = accuracy_score(y_test, y_pred)\n",
    "precision = precision_score(y_test, y_pred)\n",
    "recall = recall_score(y_test, y_pred)\n",
    "f1 = f1_score(y_test, y_pred)\n",
    "print(f\"Accuracy: {accuracy:.4f}\")\n",
    "print(f\"Precision: {precision:.4f}\")\n",
    "print(f\"Recall: {recall:.4f}\")\n",
    "print(f\"F1 Score: {f1:.4f}\")"
   ]
  },
  {
   "cell_type": "code",
   "execution_count": 13,
   "id": "4084e1b7-b936-4f67-85fd-a0df9731a66a",
   "metadata": {},
   "outputs": [
    {
     "data": {
      "image/jpeg": "[encoded data removed]",
      "text/plain": [
       "<IPython.core.display.Image object>"
      ]
     },
     "metadata": {},
     "output_type": "display_data"
    },
    {
     "name": "stdout",
     "output_type": "stream",
     "text": [
      "True Label: Fake\n",
      "Predicted Label: Real\n"
     ]
    }
   ],
   "source": [
    "# Take one image from the test data, show it, and display the label and prediction\n",
    "sample_index = 10  # You can change this index to display a different image\n",
    "\n",
    "sample_image_path = image_paths_test[sample_index]\n",
    "true_label = y_test[sample_index]\n",
    "\n",
    "# Convert predicted_label to a scalar if it's a numpy array\n",
    "predicted_label = y_pred[sample_index]\n",
    "if isinstance(predicted_label, np.ndarray):\n",
    "    predicted_label = predicted_label.item()\n",
    "\n",
    "# Convert label numbers to human-readable labels\n",
    "label_map = {0: 'Fake', 1: 'Real'}\n",
    "true_label_text = label_map[true_label]\n",
    "predicted_label_text = label_map[predicted_label]\n",
    "\n",
    "# Display the image\n",
    "display(IPImage(filename=sample_image_path))\n",
    "\n",
    "# Print the true label and predicted label\n",
    "print(f\"True Label: {true_label_text}\")\n",
    "print(f\"Predicted Label: {predicted_label_text}\")\n"
   ]
  },
  {
   "cell_type": "code",
   "execution_count": null,
   "id": "d7a715ac-25d4-47bf-b06c-8375eb63529c",
   "metadata": {},
   "outputs": [],
   "source": []
  }
 ],
 "metadata": {
  "kernelspec": {
   "display_name": "Python 3 (ipykernel)",
   "language": "python",
   "name": "python3"
  },
  "language_info": {
   "codemirror_mode": {
    "name": "ipython",
    "version": 3
   },
   "file_extension": ".py",
   "mimetype": "text/x-python",
   "name": "python",
   "nbconvert_exporter": "python",
   "pygments_lexer": "ipython3",
   "version": "3.9.19"
  }
 },
 "nbformat": 4,
 "nbformat_minor": 5
}
