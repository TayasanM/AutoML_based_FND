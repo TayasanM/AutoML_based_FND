{
 "cells": [
  {
   "cell_type": "code",
   "execution_count": 2,
   "id": "42e2cc48-352b-4d59-b26b-ed830d11ee34",
   "metadata": {},
   "outputs": [
    {
     "name": "stdout",
     "output_type": "stream",
     "text": [
      "Trial 5 Complete [00h 00m 05s]\n",
      "val_accuracy: 0.9949367046356201\n",
      "\n",
      "Best val_accuracy So Far: 0.9974683523178101\n",
      "Total elapsed time: 00h 00m 27s\n"
     ]
    },
    {
     "name": "stderr",
     "output_type": "stream",
     "text": [
      "2024-09-05 16:06:17.544514: I tensorflow/core/common_runtime/executor.cc:1197] [/device:CPU:0] (DEBUG INFO) Executor start aborting (this does not indicate an error and you can ignore this message): INVALID_ARGUMENT: You must feed a value for placeholder tensor 'Placeholder/_13' with dtype double and shape [8012,19]\n",
      "\t [[{{node Placeholder/_13}}]]\n",
      "2024-09-05 16:06:17.544739: I tensorflow/core/common_runtime/executor.cc:1197] [/device:CPU:0] (DEBUG INFO) Executor start aborting (this does not indicate an error and you can ignore this message): INVALID_ARGUMENT: You must feed a value for placeholder tensor 'Placeholder/_18' with dtype int64 and shape [8012]\n",
      "\t [[{{node Placeholder/_18}}]]\n",
      "2024-09-05 16:06:17.702586: I tensorflow/core/common_runtime/executor.cc:1197] [/device:CPU:0] (DEBUG INFO) Executor start aborting (this does not indicate an error and you can ignore this message): INVALID_ARGUMENT: You must feed a value for placeholder tensor 'Placeholder/_29' with dtype double and shape [8012,19]\n",
      "\t [[{{node Placeholder/_29}}]]\n",
      "2024-09-05 16:06:17.702843: I tensorflow/core/common_runtime/executor.cc:1197] [/device:CPU:0] (DEBUG INFO) Executor start aborting (this does not indicate an error and you can ignore this message): INVALID_ARGUMENT: You must feed a value for placeholder tensor 'Placeholder/_18' with dtype int64 and shape [8012]\n",
      "\t [[{{node Placeholder/_18}}]]\n"
     ]
    },
    {
     "name": "stdout",
     "output_type": "stream",
     "text": [
      "Epoch 1/10\n"
     ]
    },
    {
     "name": "stderr",
     "output_type": "stream",
     "text": [
      "2024-09-05 16:06:17.962968: I tensorflow/core/common_runtime/executor.cc:1197] [/device:CPU:0] (DEBUG INFO) Executor start aborting (this does not indicate an error and you can ignore this message): INVALID_ARGUMENT: You must feed a value for placeholder tensor 'Placeholder/_5' with dtype int64 and shape [8012]\n",
      "\t [[{{node Placeholder/_5}}]]\n",
      "2024-09-05 16:06:17.963514: I tensorflow/core/common_runtime/executor.cc:1197] [/device:CPU:0] (DEBUG INFO) Executor start aborting (this does not indicate an error and you can ignore this message): INVALID_ARGUMENT: You must feed a value for placeholder tensor 'Placeholder/_29' with dtype double and shape [8012,19]\n",
      "\t [[{{node Placeholder/_29}}]]\n"
     ]
    },
    {
     "name": "stdout",
     "output_type": "stream",
     "text": [
      "251/251 [==============================] - 1s 1ms/step - loss: 0.3359 - accuracy: 0.8658\n",
      "Epoch 2/10\n",
      "251/251 [==============================] - 0s 720us/step - loss: 0.0640 - accuracy: 0.9805\n",
      "Epoch 3/10\n",
      "251/251 [==============================] - 0s 1ms/step - loss: 0.0381 - accuracy: 0.9885\n",
      "Epoch 4/10\n",
      "251/251 [==============================] - 0s 1ms/step - loss: 0.0279 - accuracy: 0.9919\n",
      "Epoch 5/10\n",
      "251/251 [==============================] - 0s 1ms/step - loss: 0.0220 - accuracy: 0.9936\n",
      "Epoch 6/10\n",
      "251/251 [==============================] - 0s 830us/step - loss: 0.0182 - accuracy: 0.9946\n",
      "Epoch 7/10\n",
      "251/251 [==============================] - 0s 964us/step - loss: 0.0155 - accuracy: 0.9953\n",
      "Epoch 8/10\n",
      "251/251 [==============================] - 0s 1ms/step - loss: 0.0134 - accuracy: 0.9960\n",
      "Epoch 9/10\n",
      "251/251 [==============================] - 0s 2ms/step - loss: 0.0117 - accuracy: 0.9969\n",
      "Epoch 10/10\n",
      "251/251 [==============================] - 0s 1ms/step - loss: 0.0105 - accuracy: 0.9975\n"
     ]
    },
    {
     "name": "stderr",
     "output_type": "stream",
     "text": [
      "WARNING:absl:Found untraced functions such as _update_step_xla while saving (showing 1 of 1). These functions will not be directly callable after loading.\n"
     ]
    },
    {
     "name": "stdout",
     "output_type": "stream",
     "text": [
      "INFO:tensorflow:Assets written to: ./structured_data_classifier/best_model/assets\n"
     ]
    },
    {
     "name": "stderr",
     "output_type": "stream",
     "text": [
      "INFO:tensorflow:Assets written to: ./structured_data_classifier/best_model/assets\n"
     ]
    },
    {
     "name": "stdout",
     "output_type": "stream",
     "text": [
      " 1/63 [..............................] - ETA: 10s - loss: 0.0073 - accuracy: 1.0000"
     ]
    },
    {
     "name": "stderr",
     "output_type": "stream",
     "text": [
      "2024-09-05 16:06:22.931913: I tensorflow/core/common_runtime/executor.cc:1197] [/device:CPU:0] (DEBUG INFO) Executor start aborting (this does not indicate an error and you can ignore this message): INVALID_ARGUMENT: You must feed a value for placeholder tensor 'Placeholder/_5' with dtype int64 and shape [2004]\n",
      "\t [[{{node Placeholder/_5}}]]\n",
      "2024-09-05 16:06:22.932434: I tensorflow/core/common_runtime/executor.cc:1197] [/device:CPU:0] (DEBUG INFO) Executor start aborting (this does not indicate an error and you can ignore this message): INVALID_ARGUMENT: You must feed a value for placeholder tensor 'Placeholder/_18' with dtype int64 and shape [2004]\n",
      "\t [[{{node Placeholder/_18}}]]\n"
     ]
    },
    {
     "name": "stdout",
     "output_type": "stream",
     "text": [
      "63/63 [==============================] - 0s 871us/step - loss: 0.0194 - accuracy: 0.9925\n",
      "Test Accuracy: 0.993\n",
      "63/63 [==============================] - 0s 1ms/step\n",
      " 1/63 [..............................] - ETA: 0s"
     ]
    },
    {
     "name": "stderr",
     "output_type": "stream",
     "text": [
      "2024-09-05 16:06:23.369416: I tensorflow/core/common_runtime/executor.cc:1197] [/device:CPU:0] (DEBUG INFO) Executor start aborting (this does not indicate an error and you can ignore this message): INVALID_ARGUMENT: You must feed a value for placeholder tensor 'Placeholder/_0' with dtype double and shape [2004,19]\n",
      "\t [[{{node Placeholder/_0}}]]\n",
      "2024-09-05 16:06:23.369542: I tensorflow/core/common_runtime/executor.cc:1197] [/device:CPU:0] (DEBUG INFO) Executor start aborting (this does not indicate an error and you can ignore this message): INVALID_ARGUMENT: You must feed a value for placeholder tensor 'Placeholder/_0' with dtype double and shape [2004,19]\n",
      "\t [[{{node Placeholder/_0}}]]\n"
     ]
    },
    {
     "name": "stdout",
     "output_type": "stream",
     "text": [
      "63/63 [==============================] - 0s 2ms/step\n",
      "Accuracy: 0.9925\n",
      "Precision: 0.9891\n",
      "Recall: 0.9960\n",
      "F1 Score: 0.9925\n"
     ]
    }
   ],
   "source": [
    "import numpy as np\n",
    "import pandas as pd\n",
    "import tensorflow as tf\n",
    "import autokeras as ak\n",
    "from sklearn.model_selection import train_test_split\n",
    "from sklearn.metrics import accuracy_score, precision_score, recall_score, f1_score\n",
    "\n",
    "# Load your dataset\n",
    "data = pd.read_csv('/home/michael/Documenti/Milinda_Githubproject/Feartures_DeepFake.csv')\n",
    "\n",
    "# Define the label (target column)\n",
    "label = 'Label'  # Assuming the label column is named 'Label'\n",
    "\n",
    "# Split the dataset into training (80%) and testing (20%) sets\n",
    "train_data, test_data = train_test_split(data, test_size=0.2, random_state=42, stratify=data[label])\n",
    "\n",
    "# Separate features and target\n",
    "x_train = train_data.drop(columns=[label])\n",
    "y_train = train_data[label]\n",
    "print(y_train)\n",
    "x_test = test_data.drop(columns=[label])\n",
    "y_test = test_data[label]\n",
    "\n",
    "# Convert the features to a numpy array for AutoKeras\n",
    "x_train = np.array(x_train)\n",
    "x_test = np.array(x_test)\n",
    "\n",
    "# Initialize the AutoKeras StructuredDataClassifier\n",
    "clf = ak.StructuredDataClassifier(overwrite=True, max_trials=5)  # max_trials sets the number of models to try\n",
    "\n",
    "# Train the classifier\n",
    "clf.fit(x_train, y_train, epochs=10)  # Increase epochs to train longer if needed\n",
    "\n",
    "# Evaluate the classifier\n",
    "loss, accuracy = clf.evaluate(x_test, y_test)\n",
    "print(f\"Test Accuracy: {accuracy:.3f}\")\n",
    "\n",
    "# Predict with the best model\n",
    "y_pred = clf.predict(x_test).flatten()\n",
    "\n",
    "# Calculate Accuracy, Precision, Recall, and F1 Score\n",
    "accuracy = accuracy_score(y_test, y_pred)\n",
    "precision = precision_score(y_test, y_pred)\n",
    "recall = recall_score(y_test, y_pred)\n",
    "f1 = f1_score(y_test, y_pred)\n",
    "\n",
    "# Print the metrics\n",
    "print(f\"Accuracy: {accuracy:.4f}\")\n",
    "print(f\"Precision: {precision:.4f}\")\n",
    "print(f\"Recall: {recall:.4f}\")\n",
    "print(f\"F1 Score: {f1:.4f}\")\n"
   ]
  },
  {
   "cell_type": "code",
   "execution_count": null,
   "id": "96557956-a9c4-4bbb-b597-4b7b81e9ad3b",
   "metadata": {},
   "outputs": [],
   "source": []
  }
 ],
 "metadata": {
  "kernelspec": {
   "display_name": "Python 3 (ipykernel)",
   "language": "python",
   "name": "python3"
  },
  "language_info": {
   "codemirror_mode": {
    "name": "ipython",
    "version": 3
   },
   "file_extension": ".py",
   "mimetype": "text/x-python",
   "name": "python",
   "nbconvert_exporter": "python",
   "pygments_lexer": "ipython3",
   "version": "3.9.19"
  }
 },
 "nbformat": 4,
 "nbformat_minor": 5
}
